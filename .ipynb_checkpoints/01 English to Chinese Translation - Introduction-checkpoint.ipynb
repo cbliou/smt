{
 "cells": [
  {
   "cell_type": "markdown",
   "metadata": {
    "collapsed": true
   },
   "source": [
    "# Introduction\n",
    "#### Charlie Liou"
   ]
  },
  {
   "cell_type": "markdown",
   "metadata": {},
   "source": [
    "This series of notebooks will contain all my work for the Cal Poly San Luis Obispo 2017 Summer Research program in Statistics. [Rebecca Ottesen](https://www.linkedin.com/in/rebecca-ottesen-6961446b) is my advisor.\n",
    "\n",
    "I will be attempting to implement an English to Chinese translator using statistical modeling."
   ]
  },
  {
   "cell_type": "markdown",
   "metadata": {},
   "source": [
    "## Outline"
   ]
  },
  {
   "cell_type": "markdown",
   "metadata": {},
   "source": [
    "1. Scrape data\n",
    "    - TED (in progress)\n",
    "    - Bible (done)\n",
    "2. Sentence Alignment\n",
    "    - read papers\n",
    "3. Learn EM algorithm"
   ]
  },
  {
   "cell_type": "markdown",
   "metadata": {},
   "source": [
    "### Papers to read"
   ]
  },
  {
   "cell_type": "markdown",
   "metadata": {},
   "source": [
    "Rundown on MT and models for sentence alignment: http://mi.eng.cam.ac.uk/~wjb31/ppubs/jbrunningthesis.pdf\n",
    "\n",
    "Gale-Church sentence alignment:\n",
    "http://www.aclweb.org/anthology/J93-1004"
   ]
  }
 ],
 "metadata": {
  "kernelspec": {
   "display_name": "Python 3",
   "language": "python",
   "name": "python3"
  },
  "language_info": {
   "codemirror_mode": {
    "name": "ipython",
    "version": 3
   },
   "file_extension": ".py",
   "mimetype": "text/x-python",
   "name": "python",
   "nbconvert_exporter": "python",
   "pygments_lexer": "ipython3",
   "version": "3.6.0"
  }
 },
 "nbformat": 4,
 "nbformat_minor": 2
}
