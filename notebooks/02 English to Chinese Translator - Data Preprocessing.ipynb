{
 "cells": [
  {
   "cell_type": "markdown",
   "metadata": {},
   "source": [
    "# Data Preprocessing\n",
    "\n",
    "#### Charlie Liou"
   ]
  },
  {
   "cell_type": "markdown",
   "metadata": {},
   "source": [
    "This notebook will preprocess all of our data. The following data will be processed:\n",
    "- Wikipedia \"Good\" articles\n",
    "\n",
    " 1. Remove HTML brackets < >, square brackets [ ] for *n*-gram modeling\n",
    " \n",
    "   - Tried to do this when scraping but there were bracket nestings. Easier to download all at once and then process\n",
    "\n",
    "\n",
    "- casia_2015\n",
    "\n",
    " 1. Prepare `casia_2015en` for *n*-gram modeling\n",
    " 2. Prepare `casia_2015en` and `casia_2015cn` into a parallel corpus\n",
    "\n",
    "\n",
    "- TED\n",
    "\n",
    " 1. Prepare English portion for *n*-gram modeling?\n",
    " 2. Prepare English and Chinese for sentence alignment"
   ]
  },
  {
   "cell_type": "markdown",
   "metadata": {},
   "source": [
    "Function for removing HTML brackets < > and citation brackets [ ]:\n",
    "\n",
    "Edge cases: \n",
    "    - [#]:#\n",
    "    - unmatched left or right bracket"
   ]
  },
  {
   "cell_type": "code",
   "execution_count": 1,
   "metadata": {
    "collapsed": true
   },
   "outputs": [],
   "source": [
    "def remove_brackets(string):\n",
    "\n",
    "    if \"]:\" in string:\n",
    "        b = [[m.start(), m.end()] for m in re.finditer(\"(\\[\\w+\\]:[0-9]*)|(\\[\\D+\\]:[0-9]*)\", string)] \n",
    "        for i in b:\n",
    "            string = string[:i[0]] + string[i[1]:]\n",
    "        remove_brackets(string)\n",
    "    else:\n",
    "        left = [m.start() for m in re.finditer(\"<|\\[\", string)]\n",
    "        right = [m.start() for m in re.finditer(\">|\\]\", string)]\n",
    "        num = 0\n",
    "        if len(left) == len(right):\n",
    "            for i in range(len(left)):\n",
    "                string = string[:left[i] - num] + string[right[i] + 1 - num:]\n",
    "                num += right[i] - left[i] + 1\n",
    "            return string\n",
    "        elif len(left) > len(right): #extra left bracket\n",
    "            shift, b = 0, []\n",
    "            for i in range(len(right)):\n",
    "                if (string[left[i + shift] - num] == \"[\" and string[right[i] - num] != \"]\") or \\\n",
    "                    (string[left[i + shift] - num] == \"<\" and string[right[i] - num] != \">\"):\n",
    "                    b.append(left[i] - num)\n",
    "                    shift += 1\n",
    "                    num += 1\n",
    "            for i in b:\n",
    "                string = string[:i] + \" \" + string[i + 1:]\n",
    "            remove_brackets(string)\n",
    "        else:\n",
    "            shift, b = 0, []\n",
    "            for i in range(len(left)): #extra right bracket\n",
    "                if (string[right[i + shift] - num] == \"]\" and string[left[i] - num] != \"[\") or \\\n",
    "                    (string[right[i + shift] - num] == \">\" and string[left[i] - num] != \"<\"):\n",
    "                    b.append(right[i] - num)\n",
    "                    shift += 1\n",
    "                    num += 1\n",
    "            for i in b:\n",
    "                string = string[:i] + \" \" + string[i + 1:]        \n",
    "            remove_brackets(string)\n",
    "                \n",
    "    return string"
   ]
  },
  {
   "cell_type": "code",
   "execution_count": null,
   "metadata": {
    "collapsed": true
   },
   "outputs": [],
   "source": []
  }
 ],
 "metadata": {
  "kernelspec": {
   "display_name": "Python 3",
   "language": "python",
   "name": "python3"
  },
  "language_info": {
   "codemirror_mode": {
    "name": "ipython",
    "version": 3
   },
   "file_extension": ".py",
   "mimetype": "text/x-python",
   "name": "python",
   "nbconvert_exporter": "python",
   "pygments_lexer": "ipython3",
   "version": "3.6.1"
  }
 },
 "nbformat": 4,
 "nbformat_minor": 2
}
