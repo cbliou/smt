{
 "cells": [
  {
   "cell_type": "markdown",
   "metadata": {},
   "source": [
    "# Data Gathering\n",
    "\n",
    "#### Charlie Liou"
   ]
  },
  {
   "cell_type": "markdown",
   "metadata": {},
   "source": [
    "## Possible sources of data\n",
    "\n",
    "- Scrape TED Talks (language model + translation model)\n",
    "- Scrape Wikipedia good articles (language model)"
   ]
  },
  {
   "cell_type": "markdown",
   "metadata": {},
   "source": [
    "### Scraping TED Talks"
   ]
  },
  {
   "cell_type": "markdown",
   "metadata": {},
   "source": [
    "We begin with the standard imports:"
   ]
  },
  {
   "cell_type": "code",
   "execution_count": 1,
   "metadata": {
    "collapsed": true
   },
   "outputs": [],
   "source": [
    "import requests, urllib\n",
    "import time, os, glob\n",
    "import re\n",
    "import pandas as pd, numpy as np\n",
    "from bs4 import BeautifulSoup\n",
    "from itertools import chain"
   ]
  },
  {
   "cell_type": "markdown",
   "metadata": {},
   "source": [
    "Function to look at a *single* TED talk page and grab all TED talk links:"
   ]
  },
  {
   "cell_type": "code",
   "execution_count": 2,
   "metadata": {
    "collapsed": true
   },
   "outputs": [],
   "source": [
    "alltalks = {}\n",
    "\n",
    "def get_names(path, alltalks):\n",
    "    r = urllib.request.urlopen(path).read()\n",
    "    soup = BeautifulSoup(r, \"lxml\")\n",
    "    talks = soup.find_all(\"a\", class_ = \"\")\n",
    "    for i in talks:\n",
    "        if i.attrs['href'].find('/talks/') == 0 and alltalks.get(i.attrs['href']) != 1:\n",
    "            alltalks[i.attrs['href']] = 1\n",
    "    \n",
    "    return alltalks"
   ]
  },
  {
   "cell_type": "markdown",
   "metadata": {},
   "source": [
    "Function to scrape all TED talk links:"
   ]
  },
  {
   "cell_type": "code",
   "execution_count": 3,
   "metadata": {
    "collapsed": true
   },
   "outputs": [],
   "source": [
    "#zlink = \"https://www.ted.com/talks?language=zh-tw&page={}&sort=newest\"\n",
    "clink = \"https://www.ted.com/talks?language=zh-cn&page={}&sort=newest\""
   ]
  },
  {
   "cell_type": "code",
   "execution_count": 4,
   "metadata": {
    "scrolled": false
   },
   "outputs": [
    {
     "name": "stdout",
     "output_type": "stream",
     "text": [
      "https://www.ted.com/talks?language=zh-cn&page=0&sort=newest 36\n",
      "https://www.ted.com/talks?language=zh-cn&page=1&sort=newest 36\n",
      "https://www.ted.com/talks?language=zh-cn&page=2&sort=newest 72\n",
      "https://www.ted.com/talks?language=zh-cn&page=3&sort=newest 108\n",
      "https://www.ted.com/talks?language=zh-cn&page=4&sort=newest 144\n",
      "https://www.ted.com/talks?language=zh-cn&page=5&sort=newest 180\n",
      "https://www.ted.com/talks?language=zh-cn&page=6&sort=newest 216\n",
      "https://www.ted.com/talks?language=zh-cn&page=7&sort=newest 252\n",
      "https://www.ted.com/talks?language=zh-cn&page=8&sort=newest 288\n",
      "https://www.ted.com/talks?language=zh-cn&page=9&sort=newest 324\n",
      "https://www.ted.com/talks?language=zh-cn&page=10&sort=newest 360\n",
      "https://www.ted.com/talks?language=zh-cn&page=11&sort=newest 396\n",
      "https://www.ted.com/talks?language=zh-cn&page=12&sort=newest 432\n",
      "https://www.ted.com/talks?language=zh-cn&page=13&sort=newest 468\n",
      "https://www.ted.com/talks?language=zh-cn&page=14&sort=newest 504\n",
      "https://www.ted.com/talks?language=zh-cn&page=15&sort=newest 540\n",
      "https://www.ted.com/talks?language=zh-cn&page=16&sort=newest 576\n",
      "https://www.ted.com/talks?language=zh-cn&page=17&sort=newest 612\n",
      "https://www.ted.com/talks?language=zh-cn&page=18&sort=newest 648\n",
      "https://www.ted.com/talks?language=zh-cn&page=19&sort=newest 684\n",
      "https://www.ted.com/talks?language=zh-cn&page=20&sort=newest 720\n",
      "https://www.ted.com/talks?language=zh-cn&page=21&sort=newest 756\n",
      "https://www.ted.com/talks?language=zh-cn&page=22&sort=newest 792\n",
      "https://www.ted.com/talks?language=zh-cn&page=23&sort=newest 828\n",
      "https://www.ted.com/talks?language=zh-cn&page=24&sort=newest 864\n",
      "https://www.ted.com/talks?language=zh-cn&page=25&sort=newest 900\n",
      "https://www.ted.com/talks?language=zh-cn&page=26&sort=newest 936\n",
      "https://www.ted.com/talks?language=zh-cn&page=27&sort=newest 972\n",
      "https://www.ted.com/talks?language=zh-cn&page=28&sort=newest 1008\n",
      "https://www.ted.com/talks?language=zh-cn&page=29&sort=newest 1044\n",
      "https://www.ted.com/talks?language=zh-cn&page=30&sort=newest 1080\n",
      "https://www.ted.com/talks?language=zh-cn&page=31&sort=newest 1116\n",
      "https://www.ted.com/talks?language=zh-cn&page=32&sort=newest 1152\n",
      "https://www.ted.com/talks?language=zh-cn&page=33&sort=newest 1188\n",
      "https://www.ted.com/talks?language=zh-cn&page=34&sort=newest 1224\n",
      "https://www.ted.com/talks?language=zh-cn&page=35&sort=newest 1260\n",
      "https://www.ted.com/talks?language=zh-cn&page=36&sort=newest 1296\n",
      "https://www.ted.com/talks?language=zh-cn&page=37&sort=newest 1332\n",
      "https://www.ted.com/talks?language=zh-cn&page=38&sort=newest 1368\n",
      "https://www.ted.com/talks?language=zh-cn&page=39&sort=newest 1404\n",
      "https://www.ted.com/talks?language=zh-cn&page=40&sort=newest 1440\n",
      "https://www.ted.com/talks?language=zh-cn&page=41&sort=newest 1476\n",
      "https://www.ted.com/talks?language=zh-cn&page=42&sort=newest 1512\n",
      "https://www.ted.com/talks?language=zh-cn&page=43&sort=newest 1548\n",
      "https://www.ted.com/talks?language=zh-cn&page=44&sort=newest 1584\n",
      "https://www.ted.com/talks?language=zh-cn&page=45&sort=newest 1620\n",
      "https://www.ted.com/talks?language=zh-cn&page=46&sort=newest 1656\n",
      "https://www.ted.com/talks?language=zh-cn&page=47&sort=newest 1692\n",
      "https://www.ted.com/talks?language=zh-cn&page=48&sort=newest 1728\n",
      "https://www.ted.com/talks?language=zh-cn&page=49&sort=newest 1764\n",
      "https://www.ted.com/talks?language=zh-cn&page=50&sort=newest 1800\n",
      "https://www.ted.com/talks?language=zh-cn&page=51&sort=newest 1836\n",
      "https://www.ted.com/talks?language=zh-cn&page=52&sort=newest 1872\n",
      "https://www.ted.com/talks?language=zh-cn&page=53&sort=newest 1908\n",
      "https://www.ted.com/talks?language=zh-cn&page=54&sort=newest 1944\n",
      "https://www.ted.com/talks?language=zh-cn&page=55&sort=newest 1980\n",
      "https://www.ted.com/talks?language=zh-cn&page=56&sort=newest 2016\n",
      "https://www.ted.com/talks?language=zh-cn&page=57&sort=newest 2052\n",
      "https://www.ted.com/talks?language=zh-cn&page=58&sort=newest 2088\n",
      "https://www.ted.com/talks?language=zh-cn&page=59&sort=newest 2124\n",
      "https://www.ted.com/talks?language=zh-cn&page=60&sort=newest 2160\n",
      "https://www.ted.com/talks?language=zh-cn&page=61&sort=newest 2196\n",
      "https://www.ted.com/talks?language=zh-cn&page=62&sort=newest 2232\n",
      "https://www.ted.com/talks?language=zh-cn&page=63&sort=newest 2268\n",
      "https://www.ted.com/talks?language=zh-cn&page=64&sort=newest 2298\n",
      "https://www.ted.com/talks?language=zh-cn&page=65&sort=newest 2298\n"
     ]
    }
   ],
   "source": [
    "def get_talks(alltalks, link):\n",
    "    try:\n",
    "        for i in range(int(len(alltalks) / 36), 66):\n",
    "            path = link.format(i)\n",
    "            alltalks = get_names(path, alltalks)\n",
    "            print(path, len(alltalks))\n",
    "            time.sleep(4)\n",
    "    except urllib.request.HTTPError:\n",
    "        print(\"TED got mad at you, waiting 30 seconds\")\n",
    "        time.sleep(30)\n",
    "        get_talks(alltalks, link)\n",
    "\n",
    "#get_talks(alltalks, zlink)\n",
    "get_talks(alltalks, clink)"
   ]
  },
  {
   "cell_type": "markdown",
   "metadata": {},
   "source": [
    "Function to scrape Traditional Chinese and English for a single talk:"
   ]
  },
  {
   "cell_type": "code",
   "execution_count": 5,
   "metadata": {
    "collapsed": true
   },
   "outputs": [],
   "source": [
    "def extract_talk(path, talk_name, ch):\n",
    "        \n",
    "    langs = [\"en\", ch]        \n",
    "    r = urllib.request.urlopen(path).read()\n",
    "    soup = BeautifulSoup(r, \"lxml\")\n",
    "    df = pd.DataFrame()\n",
    "    \n",
    "    for i in soup.findAll(\"link\"):\n",
    "        \n",
    "        #only look at talks with traditional chinese\n",
    "        try:\n",
    "            if i.get(\"href\") != None:\n",
    "                for lang in langs:\n",
    "                    if i.attrs[\"href\"].find(\"?language={}\".format(lang)) != -1: \n",
    "                        path = i.attrs[\"href\"]\n",
    "                        r1 = urllib.request.urlopen(path).read()\n",
    "                        soup1 = BeautifulSoup(r1, \"lxml\")\n",
    "                        text_talk = []\n",
    "                        for i in soup1.findAll(\"p\", class_= \"m-b:0\"):\n",
    "                            if lang == ch:\n",
    "                            #print(i.text.strip().replace(\"\\t\", \"\").replace(\"\\n\", \"<!>\"))\n",
    "                            #print(len(i.text.strip().replace(\"\\t\", \"\").split(\"\\n\")))\n",
    "                                text_talk.append(i.text.strip().replace(\"\\t\", \"\").replace(\"\\n\", \"\"))\n",
    "                            else:\n",
    "                                text_talk.append(i.text.strip().replace(\"\\t\", \"\").replace(\"\\n\", \" \"))\n",
    "                        text_talk = [\" \".join(text_talk)]\n",
    "                        df1 = pd.DataFrame()\n",
    "                        df1[lang] = text_talk\n",
    "                        df = pd.concat([df1, df], axis = 1)\n",
    "        except KeyError:\n",
    "            break\n",
    "    df = pd.concat([pd.DataFrame({\"Talk\" : [talk_name]}), df], axis = 1)\n",
    "    df.to_csv(talk_name + '.txt', index = False, sep='\\t', encoding='utf-8')\n",
    "    #return df"
   ]
  },
  {
   "cell_type": "code",
   "execution_count": 6,
   "metadata": {},
   "outputs": [
    {
     "data": {
      "text/plain": [
       "'/talks/roberto_d_angelo_francesca_fedeli_in_our_baby_s_illness_a_life_lesson'"
      ]
     },
     "execution_count": 6,
     "metadata": {},
     "output_type": "execute_result"
    }
   ],
   "source": [
    "#alltalks = [x.replace(\"?language=zh-tw\", \"\") for x in list(alltalks)]\n",
    "alltalks = [x.replace(\"?language=zh-cn\", \"\") for x in list(alltalks)]\n",
    "alltalks[832]"
   ]
  },
  {
   "cell_type": "markdown",
   "metadata": {},
   "source": [
    "Function to scrape Traditional Chinese and English for *all* TED talks:\n",
    "\n",
    "I temporarily stopped at alltalks[833]"
   ]
  },
  {
   "cell_type": "code",
   "execution_count": 7,
   "metadata": {
    "collapsed": true,
    "scrolled": false
   },
   "outputs": [],
   "source": [
    "#requests.get(\"https://www.ted.com\" + alltalks[601] + \"/transcript\")"
   ]
  },
  {
   "cell_type": "code",
   "execution_count": 8,
   "metadata": {
    "collapsed": true,
    "scrolled": false
   },
   "outputs": [],
   "source": [
    "#urllib.request.urlopen(\"https://www.ted.com\" + alltalks[601] + \"/transcript\").read()"
   ]
  },
  {
   "cell_type": "code",
   "execution_count": 9,
   "metadata": {
    "scrolled": false
   },
   "outputs": [
    {
     "name": "stdout",
     "output_type": "stream",
     "text": [
      "On talk number 2225, 96.82% done\n",
      "On talk number 2226, 96.87% done\n",
      "On talk number 2227, 96.91% done\n",
      "On talk number 2228, 96.95% done\n",
      "TED got mad at you, waiting 30 seconds\n",
      "On talk number 2229, 97.0% done\n",
      "On talk number 2230, 97.04% done\n",
      "On talk number 2231, 97.08% done\n",
      "On talk number 2232, 97.13000000000001% done\n",
      "On talk number 2233, 97.17% done\n",
      "On talk number 2234, 97.21% done\n",
      "TED got mad at you, waiting 30 seconds\n",
      "TED got mad at you, waiting 30 seconds\n",
      "On talk number 2235, 97.26% done\n",
      "On talk number 2236, 97.3% done\n",
      "On talk number 2237, 97.35000000000001% done\n",
      "On talk number 2238, 97.39% done\n",
      "On talk number 2239, 97.43% done\n",
      "TED got mad at you, waiting 30 seconds\n",
      "On talk number 2240, 97.48% done\n",
      "On talk number 2241, 97.52% done\n",
      "On talk number 2242, 97.56% done\n",
      "On talk number 2243, 97.61% done\n",
      "On talk number 2244, 97.65% done\n",
      "On talk number 2245, 97.69% done\n",
      "TED got mad at you, waiting 30 seconds\n",
      "On talk number 2246, 97.74000000000001% done\n",
      "TED got mad at you, waiting 30 seconds\n",
      "On talk number 2247, 97.78% done\n",
      "On talk number 2248, 97.82% done\n",
      "TED got mad at you, waiting 30 seconds\n",
      "On talk number 2249, 97.87% done\n",
      "On talk number 2250, 97.91% done\n",
      "On talk number 2251, 97.95% done\n",
      "TED got mad at you, waiting 30 seconds\n",
      "On talk number 2252, 98.0% done\n",
      "On talk number 2253, 98.04% done\n",
      "On talk number 2254, 98.09% done\n",
      "TED got mad at you, waiting 30 seconds\n",
      "On talk number 2255, 98.13% done\n",
      "On talk number 2256, 98.17% done\n",
      "TED got mad at you, waiting 30 seconds\n",
      "On talk number 2257, 98.22% done\n",
      "On talk number 2258, 98.26% done\n",
      "On talk number 2259, 98.3% done\n",
      "On talk number 2260, 98.35000000000001% done\n",
      "On talk number 2261, 98.39% done\n",
      "TED got mad at you, waiting 30 seconds\n",
      "On talk number 2262, 98.42999999999999% done\n",
      "On talk number 2263, 98.48% done\n",
      "TED got mad at you, waiting 30 seconds\n",
      "On talk number 2264, 98.52% done\n",
      "On talk number 2265, 98.56% done\n",
      "On talk number 2266, 98.61% done\n",
      "On talk number 2267, 98.65% done\n",
      "On talk number 2268, 98.69% done\n",
      "On talk number 2269, 98.74000000000001% done\n",
      "TED got mad at you, waiting 30 seconds\n",
      "On talk number 2270, 98.78% done\n",
      "TED got mad at you, waiting 30 seconds\n",
      "On talk number 2271, 98.83% done\n",
      "On talk number 2272, 98.87% done\n",
      "On talk number 2273, 98.91% done\n",
      "On talk number 2274, 98.96000000000001% done\n",
      "On talk number 2275, 99.0% done\n",
      "TED got mad at you, waiting 30 seconds\n",
      "On talk number 2276, 99.03999999999999% done\n",
      "TED got mad at you, waiting 30 seconds\n",
      "On talk number 2277, 99.09% done\n",
      "On talk number 2278, 99.13% done\n",
      "On talk number 2279, 99.17% done\n",
      "On talk number 2280, 99.22% done\n",
      "TED got mad at you, waiting 30 seconds\n",
      "TED got mad at you, waiting 30 seconds\n",
      "On talk number 2281, 99.26% done\n",
      "On talk number 2282, 99.3% done\n",
      "On talk number 2283, 99.35000000000001% done\n",
      "On talk number 2284, 99.39% done\n",
      "On talk number 2285, 99.42999999999999% done\n",
      "On talk number 2286, 99.48% done\n",
      "TED got mad at you, waiting 30 seconds\n",
      "TED got mad at you, waiting 30 seconds\n",
      "On talk number 2287, 99.52% done\n",
      "On talk number 2288, 99.56% done\n",
      "On talk number 2289, 99.61% done\n",
      "On talk number 2290, 99.65% done\n",
      "On talk number 2291, 99.7% done\n",
      "TED got mad at you, waiting 30 seconds\n",
      "TED got mad at you, waiting 30 seconds\n",
      "On talk number 2292, 99.74% done\n",
      "On talk number 2293, 99.78% done\n",
      "On talk number 2294, 99.83% done\n",
      "On talk number 2295, 99.87% done\n",
      "TED got mad at you, waiting 30 seconds\n",
      "TED got mad at you, waiting 30 seconds\n",
      "On talk number 2296, 99.91% done\n",
      "On talk number 2297, 99.96000000000001% done\n",
      "On talk number 2298, 100.0% done\n"
     ]
    }
   ],
   "source": [
    "def to_csv(alltalks, talknum, ch):\n",
    "    try:\n",
    "        for i in range(talknum, len(alltalks)):\n",
    "            extract_talk('https://www.ted.com'+ alltalks[i] +'/transcript', alltalks[i][7:], ch)\n",
    "            time.sleep(3)\n",
    "            print(\"On talk number {}\".format(talknum + 1) + \", {}% done\".format(100 * round((talknum + 1) / len(alltalks), 4)))\n",
    "            talknum += 1\n",
    "    except urllib.request.HTTPError:\n",
    "        print(\"TED got mad at you, waiting 30 seconds\")\n",
    "        time.sleep(30)\n",
    "        to_csv(alltalks, talknum, ch)\n",
    "\n",
    "os.chdir(\"/Users/csmuser/Desktop/Cal Poly Summer Research 2017/data/zhcn_TED\")\n",
    "        \n",
    "to_csv(alltalks, 2224, \"zh-cn\")"
   ]
  },
  {
   "cell_type": "markdown",
   "metadata": {
    "collapsed": true
   },
   "source": [
    "## Wikipedia - good articles"
   ]
  },
  {
   "cell_type": "markdown",
   "metadata": {},
   "source": [
    "Function for getting all good article links:"
   ]
  },
  {
   "cell_type": "code",
   "execution_count": 4,
   "metadata": {
    "collapsed": true
   },
   "outputs": [],
   "source": [
    "def get_good_links():\n",
    "    path, k = \"https://en.wikipedia.org/wiki/Wikipedia:Good_articles/all\", []\n",
    "    r = urllib.request.urlopen(path).read()\n",
    "    soup = BeautifulSoup(r, \"lxml\")\n",
    "    for i in soup.findAll():\n",
    "        j = i.get(\"href\")\n",
    "        if j != None and \"/wiki/\" in j[:6] and \":\" not in j:\n",
    "            k.append(j)\n",
    "            #print(j)\n",
    "    return k"
   ]
  },
  {
   "cell_type": "code",
   "execution_count": 5,
   "metadata": {
    "collapsed": true
   },
   "outputs": [],
   "source": [
    "goodarticles = get_good_links()"
   ]
  },
  {
   "cell_type": "markdown",
   "metadata": {},
   "source": [
    "Function for getting main body text from one article:"
   ]
  },
  {
   "cell_type": "code",
   "execution_count": 6,
   "metadata": {
    "collapsed": true
   },
   "outputs": [],
   "source": [
    "def get_text(link, k):\n",
    "    edge = {\"\\u2009\": \" \", \"\\xa0\": \" \", \"&amp;\": \" & \"}\n",
    "    link = \"https://en.wikipedia.org\" + link\n",
    "    r = urllib.request.urlopen(link).read()\n",
    "    soup = BeautifulSoup(r, \"lxml\")\n",
    "    for i in soup.findAll(\"p\"):\n",
    "        #temp = remove_brackets(str(i))\n",
    "        temp = str(i)\n",
    "        if \"\\n\" in temp:\n",
    "            l = temp.split(\"\\n\")\n",
    "            for j in l: k.append(j.strip())\n",
    "        else:\n",
    "            k.append(temp)\n",
    "    for i in edge:\n",
    "        for j in range(len(k)):\n",
    "            if i in k[j]:\n",
    "                k[j] = k[j].replace(i, edge[i])\n",
    "    return [i.replace(\"  \", \" \") for i in k if i.strip() != \"\"]"
   ]
  },
  {
   "cell_type": "code",
   "execution_count": 7,
   "metadata": {
    "collapsed": true,
    "scrolled": true
   },
   "outputs": [],
   "source": [
    "def scrape_wiki(wikitext, goodarticles, num):\n",
    "    try:\n",
    "        for i in range(num, len(goodarticles)):\n",
    "            wikitext = get_text(goodarticles[i], [])\n",
    "            #time.sleep(1)\n",
    "            print(\"On article {}, {}% done\".format(i, round(100 * (i / len(goodarticles)), 4)), goodarticles[i])\n",
    "            num += 1\n",
    "            wiki_to_text(wikitext, goodarticles[i])\n",
    "        #return wikitext\n",
    "    except urllib.request.URLError:\n",
    "        print(\"Wikipedia got mad, waiting 30 seconds\")\n",
    "        time.sleep(30)\n",
    "        scrape_wiki(wikitext, goodarticles, num)"
   ]
  },
  {
   "cell_type": "code",
   "execution_count": 11,
   "metadata": {
    "collapsed": true
   },
   "outputs": [],
   "source": [
    "def wiki_to_text(l, name):\n",
    "    file = open(name.replace(\"/wiki/\", \"\").replace(\"/\", \"_\").replace(\"*\", \"_\") + \".txt\", \"w\", encoding = \"utf-8\")  \n",
    "    for i in l:\n",
    "        file.write(i + \"\\n\")\n",
    "    file.close()"
   ]
  },
  {
   "cell_type": "markdown",
   "metadata": {},
   "source": [
    "Edge case articles:\n",
    "    - Article 1263: had a slash\n",
    "        - sol: replace \"/\" with \"_\"\n",
    "    - Max recursion depth @ article 4155\n",
    "        - sol: change regex to also match [sentence]: \n",
    "    - URLError @ article 10340\n",
    "        - sol: rerun (most likely scraped too many articles at once (article 4155 to article 10340))\n",
    "    - Article 12434 multiple nesting < > inside of []\n",
    "        - sol: skip\n",
    "    - Article 14485 multiple nesting: [NbOF<sub>5</sub>]\n",
    "        - sol: skip\n",
    "    - Article 18917 incomplete read\n",
    "        - sol: redo\n",
    "    - Article 21072 has a *\n",
    "        - sol: replace * with _"
   ]
  },
  {
   "cell_type": "code",
   "execution_count": null,
   "metadata": {
    "scrolled": false
   },
   "outputs": [
    {
     "name": "stdout",
     "output_type": "stream",
     "text": [
      "On article 21072, 83.3149% done /wiki/Q*bert\n",
      "On article 21073, 83.3188% done /wiki/Skeet_Shoot\n",
      "On article 21074, 83.3228% done /wiki/Space_Cavern\n",
      "On article 21075, 83.3267% done /wiki/The_Staff_of_Karnath\n",
      "On article 21076, 83.3307% done /wiki/Telengard\n",
      "On article 21077, 83.3347% done /wiki/Tranz_Am\n",
      "On article 21078, 83.3386% done /wiki/Underwurlde\n"
     ]
    }
   ],
   "source": [
    "scrape_wiki([], goodarticles, 21072)"
   ]
  },
  {
   "cell_type": "code",
   "execution_count": null,
   "metadata": {
    "collapsed": true
   },
   "outputs": [],
   "source": []
  },
  {
   "cell_type": "code",
   "execution_count": 52,
   "metadata": {
    "collapsed": true
   },
   "outputs": [],
   "source": [
    "#c = \"http://www.bbc.com/zhongwen/trad\"\n",
    "#r = urllib.request.urlopen(c).read()\n",
    "#soup = BeautifulSoup(r, \"lxml\")"
   ]
  },
  {
   "cell_type": "code",
   "execution_count": 53,
   "metadata": {
    "collapsed": true,
    "scrolled": true
   },
   "outputs": [],
   "source": [
    "#soup"
   ]
  },
  {
   "cell_type": "code",
   "execution_count": null,
   "metadata": {
    "collapsed": true
   },
   "outputs": [],
   "source": []
  }
 ],
 "metadata": {
  "kernelspec": {
   "display_name": "Python 3",
   "language": "python",
   "name": "python3"
  },
  "language_info": {
   "codemirror_mode": {
    "name": "ipython",
    "version": 3
   },
   "file_extension": ".py",
   "mimetype": "text/x-python",
   "name": "python",
   "nbconvert_exporter": "python",
   "pygments_lexer": "ipython3",
   "version": "3.6.2"
  }
 },
 "nbformat": 4,
 "nbformat_minor": 2
}
