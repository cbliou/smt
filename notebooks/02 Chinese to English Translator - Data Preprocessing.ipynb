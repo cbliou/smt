{
 "cells": [
  {
   "cell_type": "markdown",
   "metadata": {},
   "source": [
    "# Data Preprocessing\n",
    "\n",
    "#### Charlie Liou"
   ]
  },
  {
   "cell_type": "code",
   "execution_count": 1,
   "metadata": {
    "collapsed": true
   },
   "outputs": [],
   "source": [
    "import os, glob, re, string, time, warnings, math\n",
    "#import enchant\n",
    "from nltk import word_tokenize, pos_tag\n",
    "import urllib, requests, html\n",
    "import numpy as np#, pandas as pd\n",
    "from bs4 import BeautifulSoup\n",
    "from itertools import chain\n",
    "#import matplotlib.pyplot as plt\n",
    "warnings.filterwarnings(\"ignore\")\n",
    "%matplotlib inline"
   ]
  },
  {
   "cell_type": "markdown",
   "metadata": {},
   "source": [
    "This notebook will preprocess all of our data. The following data will be processed:\n",
    "- Wikipedia \"Good\" articles\n",
    "\n",
    " 1. Remove HTML brackets < >, square brackets [ ] for *n*-gram modeling\n",
    " \n",
    "   - Tried to do this when scraping but there were bracket nestings. Easier to download all at once and then process\n",
    "\n",
    "- TED\n",
    "\n",
    " 1. Prepare English portion for *n*-gram modeling?\n",
    " 2. Prepare English and Chinese for sentence alignment\n",
    " \n",
    " \n",
    "- casia_2015\n",
    "\n",
    " 1. Prepare `casia_2015en` for *n*-gram modeling\n",
    " 2. Prepare `casia_2015en` and `casia_2015cn` into a parallel corpus "
   ]
  },
  {
   "cell_type": "markdown",
   "metadata": {},
   "source": [
    "## Wikipedia"
   ]
  },
  {
   "cell_type": "markdown",
   "metadata": {},
   "source": [
    "After scraping the Wikipedia data, some HTML tags remain. We must remove those."
   ]
  },
  {
   "cell_type": "code",
   "execution_count": 2,
   "metadata": {
    "collapsed": true
   },
   "outputs": [],
   "source": [
    "#my personal computer\n",
    "path = \"C:\\\\Users\\\\chuck189\\\\Desktop\\\\Cal Poly Summer Research 2017\\\\data\\\\good_wiki_articles\"\n",
    "\n",
    "#math lounge computer\n",
    "#path = \"/Users/csmuser/Desktop/Cal Poly Summer Research 2017/data/good_wiki_articles\"\n",
    "\n",
    "os.chdir(path)\n",
    "files = glob.glob(\"*.txt\")"
   ]
  },
  {
   "cell_type": "markdown",
   "metadata": {},
   "source": [
    "Function for removing HTML brackets < > and citation brackets [ ]:\n",
    "\n",
    "Edge cases: \n",
    "    - [#]:#\n",
    "    - unmatched left or right bracket\n",
    "    - [<>..<>..<>]\n",
    "    - <  [  > ... <  ]  >"
   ]
  },
  {
   "cell_type": "code",
   "execution_count": 3,
   "metadata": {
    "collapsed": true
   },
   "outputs": [],
   "source": [
    "def remove_brackets(string):\n",
    "\n",
    "    if list(re.finditer(\"\\[\\d+\\](:(\\d*-\\d*)?(\\d*)?)\", string)) != []: #\"(\\[\\w+\\]:[0-9]*)|(\\[\\D+\\]:[0-9]*)\"\n",
    "        b = list(re.finditer(\"\\[\\d+\\](:(\\d*-\\d*)?(\\d*)?)\", string))\n",
    "        for i in b: \n",
    "            string = string.replace(i[0], \"\")#string[:i[0]] + string[i[1]:]\n",
    "        remove_brackets(string)\n",
    "    else:\n",
    "        left = [m.start() for m in re.finditer(\"<|\\[\", string)]\n",
    "        right = [m.start() for m in re.finditer(\">|\\]\", string)]\n",
    "        num = 0\n",
    "        if len(left) == len(right):\n",
    "            for i in range(len(left)):\n",
    "                #possible mismatch: <....[....> <....]....> A5758_road.txt\n",
    "                if (i < len(left) - 1) and (string[left[i] - num] == \"<\") and (string[right[i] - num] == \">\") and \\\n",
    "                    (left[i] <= left[i + 1] <= right[i]):\n",
    "                    string = fix_nesting(string, left[i] - num, right[i] - num + 1, \"<[>\")\n",
    "                    return remove_brackets(string)\n",
    "                #possible mismatch: [<....><....>....<....><....>] Abdul_Amir_al-Jamri.txt\n",
    "                elif (i < len(left) - 1) and (string[left[i] - num] == \"[\") and (string[right[i] - num] == \">\") and \\\n",
    "                    (left[i] <= left[i + 1] <= right[i]):\n",
    "                    string = fix_nesting(string, left[i] - num, right[i] - num + 1, \"[<>]\")\n",
    "                    return remove_brackets(string)\n",
    "                    \n",
    "                string = string[:left[i] - num] + string[right[i] + 1 - num:]\n",
    "                num += right[i] - left[i] + 1\n",
    "            return string\n",
    "        elif len(left) > len(right): #extra left bracket\n",
    "            shift, b = 0, []\n",
    "            for i in range(len(right)):\n",
    "                if (i + shift < len(left) - 1) and (string[left[i + shift] - num] == \"[\" and string[right[i] - num] != \"]\") \\\n",
    "                    or (string[left[i + shift] - num] == \"<\" and string[right[i] - num] != \">\"):\n",
    "                    b.append(left[i] - num)\n",
    "                    shift += 1\n",
    "                    num += 1\n",
    "            for i in b:\n",
    "                string = string[:i] + \" \" + string[i + 1:]\n",
    "            return remove_brackets(string)\n",
    "        else:\n",
    "            shift, b = 0, []\n",
    "            for i in range(len(left)): #extra right bracket\n",
    "                if (string[right[i + shift] - num] == \"]\" and string[left[i] - num] != \"[\") or \\\n",
    "                    (string[right[i + shift] - num] == \">\" and string[left[i] - num] != \"<\"):\n",
    "                    b.append(right[i] - num)\n",
    "                    shift += 1\n",
    "                    num += 1\n",
    "            for i in b:\n",
    "                string = string[:i] + \" \" + string[i + 1:] \n",
    "            return remove_brackets(string)\n",
    "                \n",
    "    return string"
   ]
  },
  {
   "cell_type": "markdown",
   "metadata": {},
   "source": [
    "Takes care of some edge cases (probably not all):"
   ]
  },
  {
   "cell_type": "code",
   "execution_count": 4,
   "metadata": {
    "collapsed": true
   },
   "outputs": [],
   "source": [
    "def fix_nesting(string, l, r, t):\n",
    "    \n",
    "    temp = string[l:r]\n",
    "    \n",
    "    if t == \"<[>\":    \n",
    "        \n",
    "        left = [m.start() for m in re.finditer(\"\\[\", temp)]\n",
    "        right = [m.start() for m in re.finditer(\"\\]\", temp)]\n",
    "        \n",
    "        if (len(left) > len(right)) and (len(right) == 0):\n",
    "            num, b = 0, []\n",
    "            for i in range(len(left)):\n",
    "                temp = temp[:left[i]] + \" \" + temp[left[i] + 1:]\n",
    "        elif (len(left) < len(right)) and (len(left) == 0):\n",
    "            num, b = 0, []\n",
    "            for i in range(len(right)):\n",
    "                temp = temp[:right[i]] + \" \" + temp[right[i] + 1:]\n",
    "        return string[:l] + temp + string[r:]\n",
    "    \n",
    "    elif t == \"[<>]\":\n",
    "        \n",
    "        left = [m.start() for m in re.finditer(\"<\", temp)]\n",
    "        right = [m.start() for m in re.finditer(\">\", temp)]\n",
    "        \n",
    "        if len(left) == len(right):\n",
    "            num = 0\n",
    "            for i in range(len(left)):\n",
    "                temp = temp[:left[i] - num] + temp[right[i] + 1 - num:]\n",
    "                num += right[i] - left[i] + 1\n",
    "            return string[:l] + temp + string[r:]\n",
    "    \n",
    "    return string[:l] + temp + string[r:] #should never happen"
   ]
  },
  {
   "cell_type": "markdown",
   "metadata": {},
   "source": [
    "Clean the Wikipedia articles:"
   ]
  },
  {
   "cell_type": "code",
   "execution_count": 5,
   "metadata": {
    "collapsed": true,
    "scrolled": false
   },
   "outputs": [],
   "source": [
    "def fix_wiki(files):\n",
    "    \n",
    "    for file in files:\n",
    "    \n",
    "        try:\n",
    "            temp = remove_brackets(open(file, encoding = \"utf-8\").read())\n",
    "        except IndexError:\n",
    "            temp = \"\".join(re.split(\"<.+?>\", open(file, encoding = \"utf-8\").read()))\n",
    "            t = list(re.finditer(\"((\\[\\d+?\\])(:\\d*-\\d*)?(:\\d*)?)\", temp))\n",
    "            for i in t: temp.replace(t[0][0], \"\")\n",
    "            print(file + \"   uneven bracket extension\")\n",
    "        \n",
    "        if (\"<\" in temp) or (\">\" in temp):\n",
    "            temp = \"\".join(re.split(\"<.+?>\", open(file, encoding = \"utf-8\").read()))\n",
    "            t = list(re.finditer(\"((\\[\\d+?\\])(:\\d*-\\d*)?(:\\d*)?)\", temp))\n",
    "            for i in t: temp.replace(t[0][0], \"\")\n",
    "            print(file + \"   messed up\")\n",
    "            print()\n",
    "        \n",
    "        out = open(file[:len(file) - 4] + \"_no_tags.txt\", \"w\", encoding = \"utf-8\")\n",
    "        out.write(temp)\n",
    "        out.close()\n"
   ]
  },
  {
   "cell_type": "markdown",
   "metadata": {},
   "source": [
    "**Run this only once or you will lose your cleaned articles:**"
   ]
  },
  {
   "cell_type": "code",
   "execution_count": 6,
   "metadata": {
    "collapsed": true
   },
   "outputs": [],
   "source": [
    "#fix_wiki(files)\n",
    "#os.system(\"mkdir no_tag_wiki_articles\")\n",
    "#os.system(\"for file in \\\"/Users/csmuser/Desktop/Cal Poly Summer Research 2017/data/good_wiki_articles/\\\"*no_tags.txt; do mv -- \\\"$file\\\" \\\"/Users/csmuser/Desktop/Cal Poly Summer Research 2017/data/good_wiki_articles/no_tag_wiki_articles/\\\" ; done\")\n",
    "#os.system(\"for file in \\\"C:/Users/chuck189/Desktop/Cal Poly Summer Research 2017/data/good_wiki_articles/\\\"*no_tags.txt; do move -- \\\"$file\\\" \\\"C:/Users/chuck189/Desktop/Cal Poly Summer Research 2017/data/good_wiki_articles/no_tag_wiki_articles/\\\" ; done\")\n",
    "#os.system(\"move *no_tags.txt no_tag_wiki_articles/\")"
   ]
  },
  {
   "cell_type": "markdown",
   "metadata": {
    "collapsed": true
   },
   "source": [
    "## TED"
   ]
  },
  {
   "cell_type": "markdown",
   "metadata": {},
   "source": [
    "\n",
    "\n",
    "Some Chinese TED talks lack sentence stops, especially periods. Take for example [*What we learned from teetering on the fiscal cliff*](https://www.ted.com/talks/adam_davidson_what_we_learned_from_teetering_on_the_fiscal_cliff/transcript):\n",
    "\n",
    "In English:\n",
    "\n",
    "<p style=\"text-align: center;\">  So a friend of mine who's a political scientist, he told me several months ago exactly what this month would be like. He said, you know, there's this fiscal cliff coming, it's going to come at the beginning of 2013. Both parties absolutely need to resolve it, but neither party wants to be seen as the first to resolve it. </p>\n",
    "\n",
    "In Chinese:\n",
    "\n",
    "<p style=\"text-align: center;\"> 我有個朋友是政治學家 幾個月前 他告訴我 這個月大概是什麼光景 他說：「財政懸崖快來了。」 估計在 2013 年初到來 兩黨都必須解決這問題 但沒有一方願意先採取行動 </p>\n",
    "\n",
    "This poses a problem because when we try to align sentences we are unable to do so. There is no way to tell where the sentences begin or end. The solution is to rescrape the data and replace new line character with a space in the Chinese corpus and attempt to align Chinese sentences using the English transcript.\n",
    "\n",
    "To do this, we first identify the talks with malformed Chinese sentence stops. The assumption here is TED talks with well-formed sentence stops will show a positive correlation between the number of sentences in English and the number of sentences in Chinese. As such, talks with a high number of English sentences but a low number of Chinese talks are more likely to have malformed Chinese sentence stops."
   ]
  },
  {
   "cell_type": "code",
   "execution_count": 7,
   "metadata": {
    "collapsed": true
   },
   "outputs": [],
   "source": [
    "#my personal computer\n",
    "#path = \"C:\\\\Users\\\\chuck189\\\\Desktop\\\\Cal Poly Summer Research 2017\\\\data\\\\zhcn_TED\"\n",
    "\n",
    "#math lounge computer\n",
    "path = \"/Users/csmuser/Desktop/Cal Poly Summer Research 2017/data/zhcn_TED\"\n",
    "\n",
    "os.chdir(path)\n",
    "files = [x for x in glob.glob(\"*.txt\") if list(re.finditer(\"engalign|zhtwalign\", x)) == []]"
   ]
  },
  {
   "cell_type": "code",
   "execution_count": 8,
   "metadata": {
    "collapsed": true,
    "scrolled": true
   },
   "outputs": [],
   "source": [
    "elist, zlist = [], []\n",
    "\n",
    "for file in files:\n",
    "    t = list(chain.from_iterable([i.split(\"\\t\") for i in open(file, \"r\", encoding = \"utf-8\").read().split(\"\\n\")]))\n",
    "    elist.append(len(re.split(\"(?<![A-Z])(?<![A-Z][a-z])(?<![A-Z][a-z][a-z])\\.|\\?|!\", t[4])))\n",
    "    zlist.append(len(re.split(\"\\.|。|？|\\?|！|!\", t[5])))\n",
    "    \n",
    "df = pd.DataFrame({\"englength\": elist, \"zhtwlength\": zlist})"
   ]
  },
  {
   "cell_type": "markdown",
   "metadata": {},
   "source": [
    "A graph of the relationship between the number of sentences per talk for each language follows. The *x*-axis represents number of English sentences and the *y*-axis represents number of Chinese sentences. Each point is a TED talk.\n",
    "\n",
    "There seem to be two distinct groups:"
   ]
  },
  {
   "cell_type": "code",
   "execution_count": 9,
   "metadata": {
    "scrolled": false
   },
   "outputs": [
    {
     "data": {
      "image/png": "[encoded data removed]",
      "text/plain": [
       "<matplotlib.figure.Figure at 0x1157c3a58>"
      ]
     },
     "metadata": {},
     "output_type": "display_data"
    }
   ],
   "source": [
    "fig = plt.figure(figsize = (9,9))\n",
    "ax = fig.add_subplot(111)\n",
    "\n",
    "ax.plot(df[\"englength\"], df[\"zhtwlength\"], marker = \"o\", ls = \"None\", mfc = \"None\", ms = 2, alpha = 0.8, c = \"#065da2\")\n",
    "ax.set_xlabel(\"Number of English sentences\")\n",
    "ax.set_ylabel(\"Number of Chinese sentences\")\n",
    "ax.set_title(\"Relationship between the number of English and Chinese sentences per TED Talk\")\n",
    "ax.grid(alpha = 0.1)"
   ]
  },
  {
   "cell_type": "markdown",
   "metadata": {},
   "source": [
    "K-means doesn't capture the two groups correctly. We must find a different method."
   ]
  },
  {
   "cell_type": "code",
   "execution_count": 10,
   "metadata": {
    "scrolled": false
   },
   "outputs": [
    {
     "data": {
      "image/png": "[encoded data removed]",
      "text/plain": [
       "<matplotlib.figure.Figure at 0x115690da0>"
      ]
     },
     "metadata": {},
     "output_type": "display_data"
    }
   ],
   "source": [
    "from sklearn.cluster import KMeans\n",
    "\n",
    "kmeans = KMeans(n_clusters = 2, init = np.array([[0, 0], [100, 100]]), max_iter = 1000).fit(df)\n",
    "one = df[[bool(x) for x in kmeans.labels_]]\n",
    "two = df[[not bool(x) for x in kmeans.labels_]]\n",
    "fig = plt.figure(figsize = (9,9))\n",
    "ax = fig.add_subplot(111)\n",
    "\n",
    "ax.plot(one[\"englength\"], one[\"zhtwlength\"], marker = \"o\", ls = \"None\", mfc = \"None\", ms = 2, alpha = 0.8, c = \"#00bfd8\")\n",
    "ax.plot(two[\"englength\"], two[\"zhtwlength\"], marker = \"o\", ls = \"None\", mfc = \"None\", ms = 2, alpha = 0.8, c = \"#efa328\")\n",
    "ax.grid(alpha = 0.1)"
   ]
  },
  {
   "cell_type": "markdown",
   "metadata": {},
   "source": [
    "I decided to use a Gaussian Mixture Model with two components. The groups seem to be well-defined. Note: if some talks were incorrectly categorized as having malformed sentences, this is not a big deal. The next two functions will rescrape our talks and align properly."
   ]
  },
  {
   "cell_type": "code",
   "execution_count": 11,
   "metadata": {
    "collapsed": true
   },
   "outputs": [],
   "source": [
    "def group(rv1, rv2, x):\n",
    "    if rv1.pdf(x) > rv2.pdf(x): return 0\n",
    "    else: return 1"
   ]
  },
  {
   "cell_type": "code",
   "execution_count": 12,
   "metadata": {
    "scrolled": false
   },
   "outputs": [
    {
     "data": {
      "image/png": "[encoded data removed]",
      "text/plain": [
       "<matplotlib.figure.Figure at 0x118cf01d0>"
      ]
     },
     "metadata": {},
     "output_type": "display_data"
    }
   ],
   "source": [
    "from sklearn.mixture import GaussianMixture\n",
    "from matplotlib.patches import Ellipse\n",
    "import matplotlib.cm as cm\n",
    "from scipy.stats import multivariate_normal\n",
    "\n",
    "gm = GaussianMixture(n_components = 2, covariance_type = \"full\", random_state = 1).fit(df)\n",
    "\n",
    "rv1 = multivariate_normal(gm.means_[0], gm.covariances_[0])\n",
    "x, y = np.mgrid[min(df[\"englength\"]) - 20:max(df[\"englength\"]):.5, \n",
    "                min(df[\"zhtwlength\"]) - 20:max(df[\"zhtwlength\"]):.5]\n",
    "pos1 = np.empty(x.shape + (2,))\n",
    "pos1[:, :, 0] = x; pos1[:, :, 1] = y\n",
    "\n",
    "rv2 = multivariate_normal(gm.means_[1], gm.covariances_[1])\n",
    "pos2 = np.empty(x.shape + (2,))\n",
    "pos2[:, :, 0] = x; pos2[:, :, 1] = y\n",
    "\n",
    "#one = pd.DataFrame([list(df.iloc[x]) for x in range(len(df)) if gm.predict(df)[x] == 0])\n",
    "#two = pd.DataFrame([list(df.iloc[x]) for x in range(len(df)) if gm.predict(df)[x] == 1])\n",
    "\n",
    "one = pd.DataFrame(list(df.iloc[x]) for x in range(len(df)) if group(rv1, rv2, df.iloc[x]) == 0)\n",
    "two = pd.DataFrame(list(df.iloc[x]) for x in range(len(df)) if group(rv1, rv2, df.iloc[x]) == 1)\n",
    "\n",
    "fig, ax = plt.subplots(figsize = (11,11))\n",
    "\n",
    "ax.contour(x, y, rv1.pdf(pos1), colors = \"#00bfd8\")\n",
    "ax.plot(one[0], one[1], marker = \"o\", ls = \"None\", mfc = \"None\", ms = 2, alpha = 0.8, color = \"#00bfd8\", \n",
    "        label = \"Well-defined sentence stops\")\n",
    "ax.contour(x, y, rv2.pdf(pos2), colors = \"#efa328\")\n",
    "ax.plot(two[0], two[1], marker = \"o\", ls = \"None\", mfc = \"None\", ms = 2, alpha = 0.8, color = \"#efa328\", \n",
    "        label = \"Missing sentence stops\")\n",
    "ax.legend();"
   ]
  },
  {
   "cell_type": "code",
   "execution_count": 13,
   "metadata": {
    "collapsed": true
   },
   "outputs": [],
   "source": [
    "badfiles = [files[x] for x in [x for x in range(len(df)) if gm.predict(df)[x] == 1]]"
   ]
  },
  {
   "cell_type": "markdown",
   "metadata": {},
   "source": [
    "This function rescrapes the talk. If there are the same amount of \"\\n\" characters per TED block, we can utilize this and just look at the English text sentence stops to roughly align the sentences. We know this because the scraped data has phrases separated by \"\\n\" are translations of each other. However, there are also talks that don't have the same number of \"\\n\" characters. If this is the case, I return the scraped data and tell the next function this. I then run Gale-Church on the fragments then go back to the first case and align due to the English sentences."
   ]
  },
  {
   "cell_type": "code",
   "execution_count": 14,
   "metadata": {
    "collapsed": true
   },
   "outputs": [],
   "source": [
    "def extract_talk(path, ch):\n",
    "        \n",
    "    langs = [\"en\", ch]        \n",
    "    r = urllib.request.urlopen(path).read()\n",
    "    soup = BeautifulSoup(r, \"lxml\")\n",
    "    df = pd.DataFrame()\n",
    "    zhtw, eng, zhtwlen, englen = [], [], [], []\n",
    "    \n",
    "    for i in soup.findAll(\"link\"):\n",
    "        \n",
    "        #only look at talks with traditional chinese\n",
    "        try:\n",
    "            if i.get(\"href\") != None:\n",
    "                for lang in langs:\n",
    "                    if i.attrs[\"href\"].find(\"?language={}\".format(lang)) != -1: \n",
    "                        path = i.attrs[\"href\"]\n",
    "                        r1 = urllib.request.urlopen(path).read()\n",
    "                        soup1 = BeautifulSoup(r1, \"lxml\")\n",
    "                        for i in soup1.findAll(\"p\", class_= \"m-b:0\"):\n",
    "                            #print(len(zhtw), len(eng))\n",
    "                            if lang == ch:\n",
    "                                for j in i.text.strip().replace(\"\\t\", \"\").split(\"\\n\"):\n",
    "                                    zhtw.append(j)\n",
    "                                    zhtwlen.append(len(zhtw))\n",
    "                                zhtw.append(\"<!>\")\n",
    "                            else:\n",
    "                                for j in i.text.strip().replace(\"\\t\", \"\").split(\"\\n\"):\n",
    "                                    eng.append(j)\n",
    "                                    englen.append(len(eng))\n",
    "                                eng.append(\"<!>\")\n",
    "        except KeyError:\n",
    "            break\n",
    "    print(len(zhtw), len(eng))\n",
    "    if zhtwlen == englen:\n",
    "        return zhtw, eng, True\n",
    "    else: return zhtw, eng, False"
   ]
  },
  {
   "cell_type": "markdown",
   "metadata": {},
   "source": [
    "This function will fix our"
   ]
  },
  {
   "cell_type": "code",
   "execution_count": 15,
   "metadata": {
    "collapsed": true
   },
   "outputs": [],
   "source": [
    "def write_proper_punct(zhtw, eng, marker, talk_name):\n",
    "    \n",
    "    z, e = [], []\n",
    "    \n",
    "    if marker:\n",
    "        last = 0\n",
    "        for i in range(len(eng)):\n",
    "            t = eng[i].strip()\n",
    "            for j in string.punctuation:\n",
    "                if (j == \")\") and (\"Music\" in t) and (len(t) == 7):\n",
    "                    e.append(t)\n",
    "                    z.append(zhtw[i].strip())\n",
    "                    last = i + 1\n",
    "                if (j == \")\") and (\"Applause\" in t) and (len(t) == 10):\n",
    "                    e.append(t)\n",
    "                    z.append(zhtw[i].strip())\n",
    "                    last = i + 1                    \n",
    "                if (j in \"'\\\"\") and (t[-1] == j):\n",
    "                    if (t[-2] in \".!?\"):\n",
    "                        z.append(\"\".join(zhtw[last:i + 1]).replace(\"<!>\", \"\") + \"。\")\n",
    "                        e.append(\" \".join(eng[last:i + 1]).replace(\"<!>\", \"\"))\n",
    "                        last = i + 1\n",
    "                elif (j in \".!?\") and (t[-1] == j):\n",
    "                    z.append(\"\".join(zhtw[last:i + 1]).replace(\"<!>\", \"\") + \"。\")\n",
    "                    e.append(\" \".join(eng[last:i + 1]).replace(\"<!>\", \"\"))\n",
    "                    last = i + 1\n",
    "    \n",
    "    else:\n",
    "        zindex = [i for i, x in enumerate(zhtw) if x == \"<!>\"]\n",
    "        eindex = [i for i, x in enumerate(eng) if x == \"<!>\"]\n",
    "        z1, e1 = [], [] #hold all aligned paragraphs     \n",
    " \n",
    "        for i in range(len(zindex)):\n",
    "            if i == 0:\n",
    "                zlen = list(map(len, zhtw[i:zindex[i]]))\n",
    "                elen = list(map(len, eng[i:eindex[i]]))\n",
    "                zlast, elast = zhtw[i:zindex[i]], eng[i:eindex[i]]\n",
    "            else:\n",
    "                zlen = list(map(len, zhtw[zindex[i - 1] + 1:zindex[i]]))\n",
    "                elen = list(map(len, eng[eindex[i - 1] + 1:eindex[i]]))\n",
    "                zlast, elast = zhtw[zindex[i - 1] + 1:zindex[i]], eng[eindex[i - 1] + 1:eindex[i]]\n",
    "            one, two = write_aligned(elen, zlen, elast, zlast)\n",
    "            e1.append(one)\n",
    "            z1.append(two)\n",
    "            \n",
    "            print(e1[i])\n",
    "            print(z1[i])\n",
    "            print()\n",
    "            print()\n",
    "            print()\n",
    "            #print(e1, z1)\n",
    "    \n",
    "        return write_proper_punct(list(chain.from_iterable(z1)), list(chain.from_iterable(e1)), True, talk_name)\n",
    "                    \n",
    "    file = open(talk_name[:len(talk_name) - 4] + \"_engalign.txt\", \"w\", encoding = \"utf-8\")\n",
    "    for i in e: file.write(i + \"\\n\")\n",
    "    file.close()\n",
    "    \n",
    "    file = open(talk_name[:len(talk_name) - 4] + \"_zhtwalign.txt\", \"w\", encoding = \"utf-8\")\n",
    "    for i in z: file.write(i + \"\\n\")\n",
    "    file.close()                        \n",
    "            "
   ]
  },
  {
   "cell_type": "code",
   "execution_count": 16,
   "metadata": {
    "collapsed": true
   },
   "outputs": [],
   "source": [
    "def write_aligned(seng, szhtw, eng, zhtw):\n",
    "    e, z, etrack, ztrack = [], [], 0, 0\n",
    "    temp = gale_church.align_blocks(seng, szhtw)\n",
    "    print(temp)\n",
    "    for x in temp:\n",
    "        if (x[0] > (len(e) + etrack - 1)):\n",
    "            if x[1] == (len(z) + ztrack - 1): #multiple english, one chinese\n",
    "                etrack += 1\n",
    "                e[x[0] - etrack] += \".\" + eng[x[0]]\n",
    "            else:\n",
    "                e.append(eng[x[0]])\n",
    "                z.append(zhtw[x[1]])\n",
    "        elif x[1] > (len(z) + ztrack - 1): \n",
    "            if x[0] == (len(e) + etrack - 1): #multiple chinese, one english\n",
    "                ztrack += 1\n",
    "                z[x[1] - ztrack] += zhtw[x[1]].strip()\n",
    "            else:\n",
    "                e.append(eng[x[0]])\n",
    "                z.append(zhtw[x[1]])\n",
    "                \n",
    "    #for i in e:\n",
    "        #if \"\\\"\" in i\n",
    "    return e, z"
   ]
  },
  {
   "cell_type": "code",
   "execution_count": 17,
   "metadata": {
    "collapsed": true
   },
   "outputs": [],
   "source": [
    "def fix_stops(alltalks, talknum, ch):\n",
    "    try:\n",
    "        for i in range(talknum, len(alltalks)):\n",
    "            zhtw, eng, mark = extract_talk('https://www.ted.com/talks/' \n",
    "                                           + alltalks[i][:len(alltalks[i]) - 4] + \"/transcript\")\n",
    "            write_proper_punct(zhtw, eng, mark, alltalks[i])\n",
    "            time.sleep(3)\n",
    "            print(\"On talk number {}\".format(talknum + 1) + \", {}% done\".format(100 * round((talknum + 1) / len(alltalks), 4)))\n",
    "            talknum += 1\n",
    "    except urllib.request.HTTPError:\n",
    "        print(\"TED got mad at you, waiting 30 seconds\")\n",
    "        time.sleep(30)\n",
    "        fix_stops(alltalks, talknum, ch)"
   ]
  },
  {
   "cell_type": "code",
   "execution_count": 18,
   "metadata": {
    "collapsed": true
   },
   "outputs": [],
   "source": [
    "#print(len(zhtw[zindex[1]+1:zindex[2]]))\n",
    "#print(len(eng[eindex[1]+1:eindex[2]]))"
   ]
  },
  {
   "cell_type": "code",
   "execution_count": 19,
   "metadata": {
    "collapsed": true
   },
   "outputs": [],
   "source": [
    "#zhtw, eng, marker = extract_talk('https://www.ted.com/talks/adam_davidson_what_we_learned_from_teetering_on_the_fiscal_cliff/transcript')\n",
    "#zindex = [i for i, x in enumerate(zhtw) if x == \"<!>\"]\n",
    "#eindex = [i for i, x in enumerate(eng) if x == \"<!>\"]\n",
    "#zlen = list(map(len, zhtw))\n",
    "#elen = list(map(len, eng))\n",
    "#write_aligned(elen, zlen, eng, zhtw)"
   ]
  },
  {
   "cell_type": "code",
   "execution_count": 20,
   "metadata": {
    "scrolled": false
   },
   "outputs": [
    {
     "ename": "NameError",
     "evalue": "name 'zhtw' is not defined",
     "output_type": "error",
     "traceback": [
      "\u001b[0;31m---------------------------------------------------------------------------\u001b[0m",
      "\u001b[0;31mNameError\u001b[0m                                 Traceback (most recent call last)",
      "\u001b[0;32m<ipython-input-20-66915166ec8a>\u001b[0m in \u001b[0;36m<module>\u001b[0;34m()\u001b[0m\n\u001b[0;32m----> 1\u001b[0;31m \u001b[0mwrite_proper_punct\u001b[0m\u001b[0;34m(\u001b[0m\u001b[0mzhtw\u001b[0m\u001b[0;34m,\u001b[0m \u001b[0meng\u001b[0m\u001b[0;34m,\u001b[0m \u001b[0mmarker\u001b[0m\u001b[0;34m,\u001b[0m \u001b[0;34m\"boiiii.txt\"\u001b[0m\u001b[0;34m)\u001b[0m\u001b[0;34m\u001b[0m\u001b[0m\n\u001b[0m",
      "\u001b[0;31mNameError\u001b[0m: name 'zhtw' is not defined"
     ]
    }
   ],
   "source": [
    "write_proper_punct(zhtw, eng, marker, \"boiiii.txt\")"
   ]
  },
  {
   "cell_type": "code",
   "execution_count": null,
   "metadata": {
    "collapsed": true
   },
   "outputs": [],
   "source": [
    "#os.system(\"mkdir TED_aligned\")\n",
    "#os.system(\"mv *align.txt TED_aligned/\")\n",
    "\n",
    "#for i in badtalks:\n",
    "    #os.system(\"del {}\".format(i))\n"
   ]
  },
  {
   "cell_type": "markdown",
   "metadata": {},
   "source": [
    "## CASIA 2015"
   ]
  },
  {
   "cell_type": "code",
   "execution_count": 34,
   "metadata": {
    "collapsed": true
   },
   "outputs": [],
   "source": [
    "#desktop\n",
    "path = \"C:/Users/Sam/Desktop/Cal Poly Summer Research 2017/data/casia2015\"\n",
    "\n",
    "#my personal computer\n",
    "#path = \"C:/Users/chuck189/Desktop/Cal Poly Summer Research 2017/data/casia2015\"\n",
    "\n",
    "#math lounge computer\n",
    "#path = \"/Users/csmuser/Desktop/Cal Poly Summer Research 2017/data/casia2015\""
   ]
  },
  {
   "cell_type": "markdown",
   "metadata": {},
   "source": [
    "Variables for cleaning english. `conts` is a list of well-formed contractions and `nopunct` is a dictionary with key equal to malformed punctuation and value equal to the `conts` index of the well-formed version of the contraction."
   ]
  },
  {
   "cell_type": "code",
   "execution_count": 20,
   "metadata": {
    "collapsed": true
   },
   "outputs": [],
   "source": [
    "def merge_dicts(dict_args):\n",
    "    result = {}\n",
    "    for dictionary in dict_args: result.update(dictionary)\n",
    "    return result"
   ]
  },
  {
   "cell_type": "code",
   "execution_count": 21,
   "metadata": {
    "collapsed": true
   },
   "outputs": [],
   "source": [
    "def process_eng_vars(): #\n",
    "    #pulling contractions from two different sites\n",
    "    c = requests.get(\"http://www.softschools.com/language_arts/grammar/contractions/contractions_list/\").content\n",
    "    soup = BeautifulSoup(c, \"lxml\")\n",
    "    cont = [x for x in str(soup.find_all(\"span\", class_ = \"myFont14\")[0])\n",
    "                .replace(\"<br/>\", \" \").split(\" \") if \"\\'\" in x]\n",
    "\n",
    "    c1 = requests.get(\"http://grammar.wikia.com/wiki/List_of_contractions\").content\n",
    "    soup1 = BeautifulSoup(c1, \"lxml\")\n",
    "    cont1 = [str(x).replace(\"</td>\", \"\").replace(\"\\n\", \"\").replace(\"<td>\", \"\") \n",
    "         for x in soup1.find_all(\"td\") if \"\\'\" in str(x)]\n",
    "\n",
    "    #if you remove the apostrophe for these you will lose meaning, take them out of contractions\n",
    "    e = [\"He'll\", \"he'll\", \"We'd\", \"we'd\", \"She'll\", \"she'll\", \"We're\", \"we're\", \"I'll\", \"who's\", \"let's\", \"Let's\"\n",
    "         \"It's\", \"it's\", \"So's\", \"so's\", \"Who're\", \"who're\", \"'s\", \"s'\", \"we'll\", \"We'll\", \"she'd\", \"She'd\"]\n",
    "    conts = list(chain.from_iterable([[x.capitalize(), x] for x in set(cont).union(cont1)]))\n",
    "    for x in [\"That'll\", \"that'll\"]: conts.append(x)\n",
    "\n",
    "    #malformed versions of punctuations\n",
    "    nopunct = merge_dicts([{conts[x].center(len(conts[x]) + 2).replace(\"'\", \"\\\"\") : x, \n",
    "                            conts[x].center(len(conts[x]) + 2).replace(\"'\", \" '\") : x, \n",
    "                            conts[x].center(len(conts[x]) + 2).replace(\"'\", \"' \") : x,\n",
    "                            conts[x].center(len(conts[x]) + 2).replace(\"'\", \" ' \") : x, \n",
    "                            conts[x].center(len(conts[x]) + 2).replace(\"'\", \" \\\"\") : x, \n",
    "                            conts[x].center(len(conts[x]) + 2).replace(\"'\", \"\\\" \") : x, \n",
    "                            conts[x].center(len(conts[x]) + 2).replace(\"'\", \" \\\" \") : x,\n",
    "                            conts[x].center(len(conts[x]) + 2).replace(\"'\", \" \") : x,\n",
    "                            conts[x].ljust(len(conts[x]) + 1).replace(\"'\", \"\\\"\") : x, \n",
    "                            conts[x].ljust(len(conts[x]) + 1).replace(\"'\", \" '\") : x, \n",
    "                            conts[x].ljust(len(conts[x]) + 1).replace(\"'\", \"' \") : x,\n",
    "                            conts[x].ljust(len(conts[x]) + 1).replace(\"'\", \" ' \") : x, \n",
    "                            conts[x].ljust(len(conts[x]) + 1).replace(\"'\", \" \\\"\") : x, \n",
    "                            conts[x].ljust(len(conts[x]) + 1).replace(\"'\", \"\\\" \") : x, \n",
    "                            conts[x].ljust(len(conts[x]) + 1).replace(\"'\", \" \\\" \") : x,\n",
    "                            conts[x].ljust(len(conts[x]) + 1).replace(\"'\", \" \") : x}  if conts[x].islower()\n",
    "                      else {conts[x].ljust(len(conts[x]) + 1).replace(\"'\", \"\\\"\") : x, \n",
    "                            conts[x].ljust(len(conts[x]) + 1).replace(\"'\", \" '\") : x,\n",
    "                            conts[x].ljust(len(conts[x]) + 1).replace(\"'\", \"' \") : x,\n",
    "                            conts[x].ljust(len(conts[x]) + 1).replace(\"'\", \" ' \") : x,\n",
    "                            conts[x].ljust(len(conts[x]) + 1).replace(\"'\", \" \\\"\") : x, \n",
    "                            conts[x].ljust(len(conts[x]) + 1).replace(\"'\", \"\\\" \") : x,\n",
    "                            conts[x].ljust(len(conts[x]) + 1).replace(\"'\", \" \\\" \") : x,\n",
    "                            conts[x].ljust(len(conts[x]) + 1).replace(\"'\", \" \") : x,\n",
    "                            conts[x].ljust(len(conts[x]) + 1).replace(\"'\", \"; \") : x,} for x in range(len(conts))])\n",
    "    \n",
    "    t = {}\n",
    "    for x in range(len(conts)):\n",
    "        if (conts[x] not in e) and (conts[x].islower()):\n",
    "            t.update({conts[x].center(len(conts[x]) + 2).replace(\"'\", \"\") : x})\n",
    "        elif (conts[x] not in e) and (conts[x][0].isupper()):\n",
    "            t.update({conts[x].ljust(len(conts[x]) + 1).replace(\"'\", \"\") : x})\n",
    "    \n",
    "    nopunct = merge_dicts([nopunct, t])\n",
    "\n",
    "    return conts, nopunct"
   ]
  },
  {
   "cell_type": "markdown",
   "metadata": {},
   "source": [
    "Get a list of 400k English words (spell-checking):"
   ]
  },
  {
   "cell_type": "code",
   "execution_count": 22,
   "metadata": {
    "collapsed": true
   },
   "outputs": [],
   "source": [
    "#t = requests.get(\"https://raw.githubusercontent.com/dwyl/english-words/master/words.txt\").content\\\n",
    "        #.decode(\"utf-8\").split(\"\\n\")\n",
    "#file = open(\"C:\\\\Users\\\\Sam\\\\Desktop\\\\Cal Poly Summer Research 2017\\\\data\\\\words\\\\english.txt\", \"w\")\n",
    "#for i in t:\n",
    "    #file.write(i + \"\\n\")\n",
    "#file.close()\n",
    "\n",
    "conts, nopunct = process_eng_vars()\n",
    "t = {x:1 for x in open(\"C:\\\\Users\\\\Sam\\\\Desktop\\\\Cal Poly Summer Research 2017\\\\data\\\\words\\\\english.txt\", \"r\").read().split(\"\\n\")}"
   ]
  },
  {
   "cell_type": "markdown",
   "metadata": {},
   "source": [
    "### *n*-gram processing: CASIA"
   ]
  },
  {
   "cell_type": "markdown",
   "metadata": {},
   "source": [
    "This function splits English sentences by sentence stops (!, ?, .) while accounting for titles such as Dr., Mr., Mrs. This is necessary for `casia2015_en.txt` because many sentences are often comprised of two or more sentences."
   ]
  },
  {
   "cell_type": "code",
   "execution_count": 23,
   "metadata": {
    "collapsed": true
   },
   "outputs": [],
   "source": [
    "def eng_sentence_split(l, n):\n",
    "    \n",
    "    titles, k = \"(?<!\\\")(?<![A-z])(?<![A-Z][a-z])(?<![A-Z][a-z][a-z])(?<![0-9])(?<![0-9][0-9])(?<!i)\\.|\\n\", []\n",
    "    \n",
    "    if type(l) is list:\n",
    "    \n",
    "        for i in range(len(l)):\n",
    "            temp = [x.strip() for x in re.split(titles, l[i]) if x.strip() != \"\"] \n",
    "            if len(temp) == 1: #just 1 sentence, no .\n",
    "                ex = [x.strip() for x in re.split(\"!|\\?\", temp[0]) if x.strip() != \"\"]\n",
    "                if len(ex) == 1: k.append(markers(ex[0], n)) #just 1 sentence, no . ? !\n",
    "                else:\n",
    "                    for sent in ex: k.append(markers(sent, n))\n",
    "            else:\n",
    "                for sent in temp: #>= 2 sentences, no .\n",
    "                    ex = [x.strip() for x in re.split(\"!|\\?\", sent) if x.strip() != \"\"]\n",
    "                    if len(ex) == 1: k.append(markers(ex[0], n))\n",
    "                    else:\n",
    "                        for sent in ex: k.append(markers(sent, n))\n",
    "\n",
    "    elif type(l) is str:\n",
    "        temp = [x.strip() for x in re.split(titles, l) if x.strip() != \"\"]\n",
    "        if len(temp) == 1: #just 1 sentence, no .\n",
    "            ex = [x.strip() for x in re.split(\"!|\\?\", temp[0]) if x.strip() != \"\"]\n",
    "            if len(ex) == 1: k.append(markers(ex[0], n))#just 1 sentence, no . ? !   \n",
    "            else:\n",
    "                for sent in ex: k.append(markers(sent, n))\n",
    "                   \n",
    "        else:\n",
    "            for sent in temp: #>= 2 sentences, no .\n",
    "                ex = [x.strip() for x in re.split(\"!|\\?\", sent) if x.strip() != \"\"]\n",
    "                if len(ex) == 1: k.append(markers(ex[0], n))\n",
    "                else:\n",
    "                    for sent in ex: k.append(markers(sent, n))\n",
    "\n",
    "    return list(filter(lambda x: (x != \"\\* \\* ' */ */\") and (x != \"\\* \\* \\\" */ */\"), k))"
   ]
  },
  {
   "cell_type": "code",
   "execution_count": 24,
   "metadata": {
    "collapsed": true
   },
   "outputs": [],
   "source": [
    "def markers(string, n): return \"\\* \" * (n - 1) + string.strip() + \" */\" * (n - 1)"
   ]
  },
  {
   "cell_type": "code",
   "execution_count": 47,
   "metadata": {
    "collapsed": true
   },
   "outputs": [],
   "source": [
    "def process_eng_ngram(l, c, conts, nopunct, t):\n",
    "    \n",
    "    '''\n",
    "    Takes a list of English sentences and prepares it n-gram processing\n",
    "    l: list of English sentences. Each list entry must be an English sentence aligned to a Chinese sentence at the same index for all indexes.\n",
    "    c: list of Chinese sentences. \n",
    "    conts: well-formed contractions\n",
    "    nopunct: malformed contractions (dont, don\"t, don ' t, etc.)\n",
    "    t: List of 400k English words. Get it here: \"https://raw.githubusercontent.com/dwyl/english-words/master/words.txt\n",
    "    '''\n",
    "\n",
    "    one =   \"(([A-z]|[0-9]|,)+(\\s-|-\\s|\\s-\\s)[A-z]+)|([0-9]+(\\s-|-\\s)year\\s?-\\s?old)\"\n",
    "    two =   \"((([A-z]|[0-9]|,)+(\\s-|-\\s|\\s-\\s))){1,2}[A-z]+|([0-9]+(\\s-|-\\s)year\\s?-\\s?old)\"\n",
    "    three = \"((([A-z]|[0-9]|,)+(\\s-|-\\s|\\s-\\s))){1,3}[A-z]+|([0-9]+(\\s-|-\\s)year\\s?-\\s?old)\"\n",
    "    replace = {\"B\": \"billion\", \"BN\": \"billion\", \"M\": \"million\", \"K\": \"thousand\"}\n",
    "    ireplace = {\"℃\": \" Celsius \", \"℉\": \" Fahrenheit \", \" .com \": \".com \", \" . com \": \".com\", \n",
    "                \"\\u2028\": \" \", \"\\u2029\": \" \", \"\\u200e\": \" \", \"\\xa0\": \" \", \"\\ufeff\": \"\"}\n",
    "    \n",
    "    for i in range(len(l)):\n",
    "        \n",
    "        l[i] = html.unescape(l[i])\n",
    "        \n",
    "        for j in ireplace:\n",
    "            if j in l[i]:\n",
    "                l[i] = l[i].replace(j, ireplace[j])\n",
    "        \n",
    "        #### replace malformed contractions with correct form:\n",
    "\n",
    "        for j in nopunct:\n",
    "            if j in l[i]:\n",
    "                l[i] = l[i].replace(j.strip(), conts[nopunct[j]])\n",
    "        \n",
    "        #### fix --, replace any combination of -'s and whitespace with --\n",
    "        \n",
    "        if \"-\" in l[i]:\n",
    "            \n",
    "            b = list(re.finditer(\"\\w\\s-\\w|\\w-\\s\\w\", l[i]))\n",
    "            if b != []:\n",
    "                if len(b) == 1:\n",
    "                    d = list(re.finditer(one, l[i]))\n",
    "                    for x in d:\n",
    "                        e, g = x.group(0).replace(\" - \", \" -\"), False\n",
    "                        f = pos_tag(word_tokenize(e))\n",
    "                        j = pos_tag([x for x in word_tokenize(e.replace(\"-\", \" \")) if x != \"\"]) \n",
    "                        if \" - \" in x.group(0): g = True \n",
    "                        no, yes = (f[0][0] + f[1][0]).replace(\"-\", \"\"), (f[0][0] + f[1][0]).replace(\" \", \"\")\n",
    "                        \n",
    "                        if (no in t) or (no[0].upper() + no[1:] in t):\n",
    "                            if g: l[i] = l[i].replace(x.group(0), no)\n",
    "                            else: l[i] = l[i].replace(e, no)\n",
    "                                \n",
    "                        elif (yes in t) or (yes[0].upper() + yes[1:] in t):\n",
    "                            if g: l[i] = l[i].replace(x.group(0), yes)\n",
    "                            else: l[i] = l[i].replace(e, yes)\n",
    "                                \n",
    "                        elif (\"and\" not in e.split(\" \")) and (\"or\" not in e.split(\" \")) \\\n",
    "                                and ((f[len(f) - 1][0].endswith(\"ed\")) or (f[len(f) - 1][0].endswith(\"ing\"))\n",
    "                                and (\"VB\" not in f[0][1])):\n",
    "                            l[i] = l[i].replace(x.group(0), e.replace(\" \", \"\")) #changes tear- filled to tear-filled\n",
    "                            \n",
    "                        elif (\"and\" in e.split(\" \")) or (\"or\" in e.split(\" \")) or (\"to\" in e.split(\" \")):\n",
    "                            l[i] = l[i].replace(x.group(0), e.replace(\"-\", \"\"))\n",
    "\n",
    "                        else:\n",
    "                            l[i] = l[i].replace(x.group(), x.group().replace(\"-\", \" - \"))\n",
    "\n",
    "                elif len(b) == 2:\n",
    "                    d = list(re.finditer(two, l[i]))\n",
    "                    for x in d:\n",
    "                        e = x.group(0)\n",
    "                        f = pos_tag([x for x in word_tokenize(e.replace(\"-\", \" \")) if x != \"\"]) \n",
    "                        if (\"and\" not in e.split(\" \")) and (\"or\" not in e.split(\" \")) \\\n",
    "                            and (f[len(f) - 1][1].startswith(\"N\")):\n",
    "                            l[i] = l[i].replace(e, e.replace(\" \", \"\")) \n",
    "                        elif not f[len(f) - 1][1].startswith(\"N\"):\n",
    "                            l[i] = l[i].replace(e, e.replace(\"-\", \"\"))         \n",
    "                if len(b) >= 3:\n",
    "                    d = list(re.finditer(three, l[i]))\n",
    "                    for x in d:\n",
    "                        e = re.sub(\"\\s+\", \"\", x.group(0))\n",
    "                        if e in t: l[i] = l[i].replace(x.group(0), e)\n",
    "                        \n",
    "                    \n",
    "            if \"- -\" in l[i]: \n",
    "                a = list(re.finditer(\"(-{1,}\\s?){2,}|(-\\s?){2,}\", l[i]))\n",
    "                if a != []:\n",
    "                    for x in a: l[i] = l[i].replace(x.group(0), \"--\")\n",
    "            \n",
    "            if \"--\" in l[i]:\n",
    "                a = list(re.finditer(\"-{3,}\", l[i]))\n",
    "                if a != []: \n",
    "                    for x in a: l[i] = l[i].replace(x.group(0), \"--\")\n",
    "                    \n",
    "        #### fix long ellipses ....... and . . . . . .\n",
    "        \n",
    "        if \"...\" in l[i]:\n",
    "            a = list(re.finditer(\"(\\.){3,}\", l[i]))\n",
    "            if a != []: \n",
    "                for x in a: l[i] = l[i].replace(x.group(0), \"...\")\n",
    "                    \n",
    "        if \". . .\" in l[i]:\n",
    "            a = list(re.finditer(\"(\\. ){2,}\\.\", l[i]))\n",
    "            if a != []: \n",
    "                for x in a: l[i] = l[i].replace(x.group(0), \"...\")\n",
    "        \n",
    "        #### fix malformed dollar signs\n",
    "        \n",
    "        if \"$\" in l[i]:\n",
    "            a = list(re.finditer(\"[A-z]*\\$(([-+]?\\s*([0-9]*?\\.?,?[\\s]+[0-9]+))|([0-9]+))[A-z]*\", l[i])) #$7bn, US$7bn\n",
    "            if a != []:\n",
    "                for j in a:\n",
    "                    b = list(re.finditer(\"[A-z]+\", j.group(0)))\n",
    "                    if b != []:\n",
    "                        if len(b) == 1: # $7bn or HK$700\n",
    "                            d = re.sub(\"\\s+\", \"\", j.group(0))\n",
    "                            #print(d)\n",
    "                            if (b[0].group(0).upper() == \"BN\") or (b[0].group(0).upper() == \"M\") \\\n",
    "                            or (b[0].group(0).upper() == \"B\") or (b[0].group(0).upper() == \"K\"): #$10bn -> $10 billion\n",
    "                                d = d.replace(b[0].group(0), \" \" + replace[b[0].group(0).upper()] + \" \")\n",
    "                            else: d = d.replace(b[0].group(0), \" \" + b[0].group(0) + \" \")\n",
    "                            l[i] = l[i].replace(j.group(0), d)\n",
    "                        else: #HK$7bn\n",
    "                            d = re.sub(\"\\s{0,}\", \"\", j.group(0))\n",
    "                            for k in b:\n",
    "                                if (k.group(0).upper() == \"BN\") or (k.group(0).upper() == \"M\") \\\n",
    "                                or (k.group(0).upper() == \"B\") or (b[0].group(0).upper() == \"K\"):\n",
    "                                    d = d.replace(k.group(0), \" \" + replace[k.group(0).upper()] + \" \")\n",
    "                                else: d = d.replace(k.group(0), \" \" + k.group(0) + \" \")\n",
    "                            l[i] = l[i].replace(j.group(0), d)\n",
    "                    else:\n",
    "                        l[i] = l[i].replace(j.group(0), re.sub(\"\\s+\", \"\", j.group(0))) #$10. 23 -> $10.23\n",
    "        \n",
    "        if \"%\" in l[i]:\n",
    "            a = list(re.finditer(\"([0-9]+\\.?[\\s]+[0-9]+)%[A-z]*\", l[i]))\n",
    "            if a != []: \n",
    "                for j in a: l[i] = l[i].replace(j.group(0), re.sub(\"\\s+\", \"\", j.group(0)))\n",
    "        \n",
    "                    \n",
    "        l[i] = re.sub(\"\\s+\", \" \", l[i]).strip()\n",
    "                \n",
    "    return l"
   ]
  },
  {
   "cell_type": "markdown",
   "metadata": {},
   "source": [
    "We first clean the `CASIA 2015` dataset:"
   ]
  },
  {
   "cell_type": "code",
   "execution_count": 48,
   "metadata": {
    "collapsed": true
   },
   "outputs": [],
   "source": [
    "os.chdir(path)\n",
    "files = glob.glob(\"*.txt\")\n",
    "\n",
    "eng = open(files[1], \"r\", encoding = \"utf-8\").read().split(\"\\n\")\n",
    "ch = open(files[0], \"r\", encoding = \"utf-8\").read().split(\"\\n\")"
   ]
  },
  {
   "cell_type": "code",
   "execution_count": 49,
   "metadata": {},
   "outputs": [],
   "source": [
    "ngrameng = eng_sentence_split(process_eng_ngram(eng[:], ch[:], conts, nopunct, t), 3)\n",
    "file = open(\"/casia_clean/casia2015_en_ngramclean.txt\", \"w\", encoding = \"utf-8\")\n",
    "file.write(\"\\n\".join(ngrameng))\n",
    "file.close()"
   ]
  },
  {
   "cell_type": "markdown",
   "metadata": {},
   "source": [
    "### *n*-gram processing: Wikipedia"
   ]
  },
  {
   "cell_type": "code",
   "execution_count": 61,
   "metadata": {
    "collapsed": true
   },
   "outputs": [],
   "source": [
    "#my personal computer\n",
    "#path = \"C:\\\\Users\\\\chuck189\\\\Desktop\\\\Cal Poly Summer Research 2017\\\\data\\\\good_wiki_articles\"\n",
    "\n",
    "#math lounge computer\n",
    "#path = \"/Users/csmuser/Desktop/Cal Poly Summer Research 2017/data/good_wiki_articles\"\n",
    "\n",
    "#desktop\n",
    "path = \"C:\\\\Users\\\\Sam\\\\Desktop\\\\Cal Poly Summer Research 2017\\\\data\\\\good_wiki_articles\\\\no_tag_wiki_articles\"\n",
    "\n",
    "os.chdir(path)\n",
    "files = glob.glob(\"*.txt\")"
   ]
  },
  {
   "cell_type": "code",
   "execution_count": 55,
   "metadata": {
    "collapsed": true
   },
   "outputs": [],
   "source": [
    "def aggregate_wiki(files):\n",
    "    sentences, titles = [], \"(?<!\\\")(?<![A-z])(?<![A-Z][a-z])(?<![A-Z][a-z][a-z])(?<![0-9])(?<![0-9][0-9])(?<!i)\\.|\\n\"\n",
    "    for y in files:\n",
    "        for z in (x.strip() for x in re.split(titles, open(y, encoding = \"utf-8\").read())):\n",
    "            if (z != \"\") and (z != \"\\\"\") and (z != \"'\"):\n",
    "                sentences.append(re.sub(\"\\s+\", \" \", z))\n",
    "\n",
    "    return sentences"
   ]
  },
  {
   "cell_type": "code",
   "execution_count": 56,
   "metadata": {},
   "outputs": [],
   "source": [
    "ngrameng = eng_sentence_split(process_eng_ngram(aggregate_wiki(files), [], conts, nopunct, t), 3)\n",
    "file = open(\"good_wiki_article_ngram_clean.txt\", \"w\", encoding = \"utf-8\")\n",
    "file.write(\"\\n\".join(ngrameng))\n",
    "file.close()"
   ]
  },
  {
   "cell_type": "markdown",
   "metadata": {},
   "source": [
    "### Merging *n*-gram data"
   ]
  },
  {
   "cell_type": "code",
   "execution_count": 69,
   "metadata": {},
   "outputs": [],
   "source": [
    "file = open(\"good_wiki_article_ngram_clean.txt\", \"r\", encoding = \"utf-8\").read().split(\"\\n\")\n",
    "file2 = open(\"C:/Users/Sam/Desktop/Cal Poly Summer Research 2017/data/casia2015/casia_clean/casia2015_en_ngramclean.txt\", \n",
    "             \"r\", \n",
    "             encoding = \"utf-8\").read().split(\"\\n\")"
   ]
  },
  {
   "cell_type": "code",
   "execution_count": 71,
   "metadata": {},
   "outputs": [],
   "source": [
    "with open(\"ngram_train.txt\", \"w\", encoding = \"utf-8\") as f: f.write(\"\\n\".join(file + file2))"
   ]
  },
  {
   "cell_type": "markdown",
   "metadata": {},
   "source": [
    "## Parallel corpus processing"
   ]
  },
  {
   "cell_type": "markdown",
   "metadata": {},
   "source": [
    "### Preparing English for word alignment"
   ]
  },
  {
   "cell_type": "markdown",
   "metadata": {},
   "source": [
    "This function prepares a list of English sentences for word alignment. It takes in lists of English and Chinese sentences where each English list entry is aligned to a Chinese list entry for a given index for all indexes."
   ]
  },
  {
   "cell_type": "code",
   "execution_count": 45,
   "metadata": {
    "collapsed": true
   },
   "outputs": [],
   "source": [
    "def process_eng_parallel(l, c, conts, nopunct, t):\n",
    "    \n",
    "    '''\n",
    "    Takes a list of English sentences and prepares it for word alignment.\n",
    "    l: list of English sentences. Each list entry must be an English sentence aligned to a Chinese sentence at the same index for all indexes.\n",
    "    c: list of Chinese sentences. \n",
    "    conts: well-formed contractions\n",
    "    nopunct: malformed contractions (dont, don\"t, don ' t, etc)\n",
    "    t: List of 400k English words. Get it here (don't forget to import requests): requests.get(\"https://raw.githubusercontent.com/dwyl/english-words/master/words.txt\").content\\.decode(\"utf-8\").split(\"\\n\")\n",
    "        \n",
    "    '''\n",
    "\n",
    "    one =   \"(([A-z]|[0-9]|,)+(\\s-|-\\s|\\s-\\s)[A-z]+)|([0-9]+(\\s-|-\\s)year\\s?-\\s?old)\"\n",
    "    two =   \"((([A-z]|[0-9]|,)+(\\s-|-\\s|\\s-\\s))){1,2}[A-z]+|([0-9]+(\\s-|-\\s)year\\s?-\\s?old)\"\n",
    "    three = \"((([A-z]|[0-9]|,)+(\\s-|-\\s|\\s-\\s))){1,3}[A-z]+|([0-9]+(\\s-|-\\s)year\\s?-\\s?old)\"\n",
    "    replace = {\"B\": \"billion\", \"BN\": \"billion\", \"M\": \"million\", \"K\": \"thousand\"}\n",
    "    ireplace = {\"℃\": \" Celsius \", \"℉\": \" Fahrenheit \", \" .com \": \".com \", \" . com \": \".com\", \n",
    "                \"\\u2028\": \" \", \"\\u2029\": \" \", \"\\u200e\": \" \", \"\\xa0\": \" \"}\n",
    "\n",
    "    #d1 = enchant.Dict(\"en_US\")\n",
    "    #d1.add_to_pwl(\"email\")\n",
    "    #d2 = enchant.Dict(\"en_GB\")\n",
    "    #d3 = enchant.Dict(\"de_DE\")\n",
    "    #d4 = enchant.Dict(\"fr_FR\")\n",
    "    #t = requests.get(\"https://raw.githubusercontent.com/dwyl/english-words/master/words.txt\").content\\\n",
    "        #.decode(\"utf-8\").split(\"\\n\")\n",
    "    \n",
    "    for i in range(len(l)):\n",
    "        \n",
    "        l[i] = html.unescape(l[i])\n",
    "        \n",
    "        for j in ireplace:\n",
    "            if j in l[i]:\n",
    "                l[i] = l[i].replace(j, ireplace[j])\n",
    "        \n",
    "        #'''\n",
    "        \n",
    "        #### replace malformed contractions with correct form:\n",
    "\n",
    "        for j in nopunct:\n",
    "            if j in l[i]:\n",
    "                l[i] = l[i].replace(j.strip(), conts[nopunct[j]])\n",
    "        \n",
    "        #### fix --, replace any combination of -'s and whitespace with --\n",
    "        \n",
    "        if \"-\" in l[i]:\n",
    "            \n",
    "            b = list(re.finditer(\"\\w\\s-\\w|\\w-\\s\\w\", l[i]))\n",
    "            if b != []:\n",
    "                if len(b) == 1:\n",
    "                    d = list(re.finditer(three, l[i]))\n",
    "                    for x in d:\n",
    "                        e, g = x.group(0).replace(\" - \", \" -\"), False\n",
    "                        f = pos_tag(word_tokenize(e))\n",
    "                        j = pos_tag([x for x in word_tokenize(e.replace(\"-\", \" \")) if x != \"\"]) \n",
    "                        if \" - \" in x.group(0): g = True \n",
    "                        no, yes = (f[0][0] + f[1][0]).replace(\"-\", \"\"), (f[0][0] + f[1][0]).replace(\" \", \"\")\n",
    "                        \n",
    "                        if (no in t) or (no[0].upper() + no[1:] in t):\n",
    "                            if g: l[i] = l[i].replace(x.group(0), no)\n",
    "                            else: l[i] = l[i].replace(e, no)\n",
    "                                \n",
    "                        elif (yes in t) or (yes[0].upper() + yes[1:] in t):\n",
    "                            if g: l[i] = l[i].replace(x.group(0), yes)\n",
    "                            else: l[i] = l[i].replace(e, yes)\n",
    "                                \n",
    "                        elif (\"and\" not in e.split(\" \")) and (\"or\" not in e.split(\" \")) \\\n",
    "                                and ((f[len(f) - 1][0].endswith(\"ed\")) or (f[len(f) - 1][0].endswith(\"ing\"))\n",
    "                                and (\"VB\" not in f[0][1])):\n",
    "                            l[i] = l[i].replace(x.group(0), e.replace(\" \", \"\")) #changes tear- filled to tear-filled\n",
    "                            \n",
    "                        elif (\"and\" in e.split(\" \")) or (\"or\" in e.split(\" \")) or (\"to\" in e.split(\" \")):\n",
    "                            l[i] = l[i].replace(x.group(0), e.replace(\"-\", \"\"))\n",
    "                            \n",
    "                        elif \"—\" in c[i]:\n",
    "                            h = math.ceil(len(c[i]) * (l[i].index(x.group(0)) / len(l[i])))\n",
    "                            left, right = h - 5, max(h + 5, len(c[i])) #small window to check for chinese dash\n",
    "                            if \"—\" in c[i][left:right]:\n",
    "                                l[i] = l[i].replace(x.group(0), x.group(0).replace(\"-\", \" - \"))\n",
    "\n",
    "                        else:\n",
    "                            l[i] = l[i].replace(x.group(0), x.group(0).replace(\"-\", \" - \"))\n",
    "\n",
    "                elif len(b) == 2:\n",
    "                    d = list(re.finditer(two, l[i]))\n",
    "                    for x in d:\n",
    "                        e = x.group(0)\n",
    "                        f = pos_tag([x for x in word_tokenize(e.replace(\"-\", \" \")) if x != \"\"]) \n",
    "                        if (\"and\" not in e.split(\" \")) and (\"or\" not in e.split(\" \")) \\\n",
    "                            and (f[len(f) - 1][1].startswith(\"N\")):\n",
    "                            l[i] = l[i].replace(e, e.replace(\" \", \"\")) \n",
    "                        elif not f[len(f) - 1][1].startswith(\"N\"):\n",
    "                            l[i] = l[i].replace(e, e.replace(\"-\", \"\"))         \n",
    "                if len(b) >= 3:\n",
    "                    d = list(re.finditer(three, l[i]))\n",
    "                    for x in d:\n",
    "                        e = re.sub(\"\\s+\", \"\", x.group(0))\n",
    "                        if e in t: l[i] = l[i].replace(x.group(0), e)\n",
    "                        \n",
    "                    \n",
    "            if \"- -\" in l[i]: \n",
    "                a = list(re.finditer(\"(-{1,}\\s?){2,}|(-\\s?){2,}\", l[i]))\n",
    "                if a != []:\n",
    "                    for x in a: l[i] = l[i].replace(x.group(0), \"--\")\n",
    "            \n",
    "            if \"--\" in l[i]:\n",
    "                a = list(re.finditer(\"-{3,}\", l[i]))\n",
    "                if a != []: \n",
    "                    for x in a: l[i] = l[i].replace(x.group(0), \"--\")\n",
    "                    \n",
    "        #### fix long ellipses ....... and . . . . . .\n",
    "        \n",
    "        if \"...\" in l[i]:\n",
    "            a = list(re.finditer(\"(\\.){3,}\", l[i]))\n",
    "            if a != []: \n",
    "                for x in a: l[i] = l[i].replace(x.group(0), \"...\")\n",
    "                    \n",
    "        if \". . .\" in l[i]:\n",
    "            a = list(re.finditer(\"(\\. ){2,}\\.\", l[i]))\n",
    "            if a != []: \n",
    "                for x in a: l[i] = l[i].replace(x.group(0), \"...\")\n",
    "                    \n",
    "        #### fix appearances of : in English when doesn't appear in Chinese (beginning of sentence)\n",
    "        #### Below is one such example\n",
    "        #### Yuna: Dont's worry.Being called Koala doesn't make him any less of a computer expert.\n",
    "        #### 别担心，叫做无尾熊完全无损于他是一位电脑专家啦!\n",
    "        #### Edge cases: \n",
    "        #### Not again: Lightning appears to strike the spire of Trump Tower a second time ....\n",
    "        #### 不是吧，又来！昨晚暴雨侵袭的时候，划过天际的闪电第二次击中了川普大厦的塔尖。\n",
    "        #### Solution: only remove things before : with no space\n",
    "        #### Problem: will miss some things like \"ROGER FEDERER:\", it's not perfect\n",
    "\n",
    "        if (\":\" in l[i][:20]) and (list(re.finditer(\"：|:\", c[i][:8])) == []):\n",
    "            a = l[i].index(\":\")\n",
    "            b = l[i][:a].strip()\n",
    "            if \" \" not in b: l[i] = l[i][a + 1:] #you do not have a phrase / edge case name do not remove\n",
    "        \n",
    "        #### fix malformed dollar signs\n",
    "        \n",
    "        if \"$\" in l[i]:\n",
    "            #print(l[i])\n",
    "            a = list(re.finditer(\"[A-z]*\\$(([-+]?\\s*([0-9]*?\\.?,?[\\s]+[0-9]+))|([0-9]+))[A-z]*\", l[i])) #$7bn, US$7bn\n",
    "            if a != []:\n",
    "                for j in a:\n",
    "                    #print(l[i], j)\n",
    "                    b = list(re.finditer(\"[A-z]+\", j.group(0)))\n",
    "                    #print(b)\n",
    "                    if b != []:\n",
    "                        if len(b) == 1: # $7bn or HK$700\n",
    "                            d = re.sub(\"\\s+\", \"\", j.group(0))\n",
    "                            #print(d)\n",
    "                            if (b[0].group(0).upper() == \"BN\") or (b[0].group(0).upper() == \"M\") \\\n",
    "                            or (b[0].group(0).upper() == \"B\") or (b[0].group(0).upper() == \"K\"): #$10bn -> $10 billion\n",
    "                                d = d.replace(b[0].group(0), \" \" + replace[b[0].group(0).upper()] + \" \")\n",
    "                            else: d = d.replace(b[0].group(0), \" \" + b[0].group(0) + \" \")\n",
    "                            l[i] = l[i].replace(j.group(0), d)\n",
    "                        else: #HK$7bn\n",
    "                            d = re.sub(\"\\s{0,}\", \"\", j.group(0))\n",
    "                            for k in b:\n",
    "                                if (k.group(0).upper() == \"BN\") or (k.group(0).upper() == \"M\") \\\n",
    "                                or (k.group(0).upper() == \"B\") or (b[0].group(0).upper() == \"K\"):\n",
    "                                    d = d.replace(k.group(0), \" \" + replace[k.group(0).upper()] + \" \")\n",
    "                                else: d = d.replace(k.group(0), \" \" + k.group(0) + \" \")\n",
    "                            l[i] = l[i].replace(j.group(0), d)\n",
    "                    else:\n",
    "                        l[i] = l[i].replace(j.group(0), re.sub(\"\\s+\", \"\", j.group(0))) #$10. 23 -> $10.23\n",
    "        \n",
    "        if \"%\" in l[i]:\n",
    "            a = list(re.finditer(\"([0-9]+\\.?[\\s]+[0-9]+)%[A-z]*\", l[i]))\n",
    "            if a != []: \n",
    "                for j in a: l[i] = l[i].replace(j.group(0), re.sub(\"\\s+\", \"\", j.group(0)))\n",
    "        \n",
    "                    \n",
    "        l[i] = re.sub(\"\\s+\", \" \", l[i]).strip()\n",
    "                \n",
    "    return l"
   ]
  },
  {
   "cell_type": "code",
   "execution_count": 18,
   "metadata": {
    "collapsed": true
   },
   "outputs": [],
   "source": [
    "path = \"C:/Users/Sam/Desktop/Cal Poly Summer Research 2017/data/casia2015\"\n",
    "os.chdir(path)\n",
    "files = glob.glob(\"*.txt\")\n",
    "\n",
    "engtemp = process_eng_parallel(eng[:], ch[:], conts, nopunct, t)\n",
    "file = open(\"casia2015_en_pclean.txt\", \"w\", encoding = \"utf-8\")\n",
    "file.write(\"\\n\".join(engtemp))\n",
    "file.close()"
   ]
  },
  {
   "cell_type": "markdown",
   "metadata": {},
   "source": [
    "### Preparing Chinese for word alignment"
   ]
  },
  {
   "cell_type": "markdown",
   "metadata": {},
   "source": [
    "For tokenization, NLTK's `word_tokenize` works fine. Unfortunately, it requires whitespace to determine tokens. Take the following sentence as an example:"
   ]
  },
  {
   "cell_type": "code",
   "execution_count": 6,
   "metadata": {},
   "outputs": [
    {
     "data": {
      "text/plain": [
       "['表演者没有大炮火药了，于是Clifford吹气把她发射出去了。']"
      ]
     },
     "execution_count": 6,
     "metadata": {},
     "output_type": "execute_result"
    }
   ],
   "source": [
    "word_tokenize(chtemp[30])"
   ]
  },
  {
   "cell_type": "markdown",
   "metadata": {},
   "source": [
    "None of the words were tokenized. Thus, a whitespace character between each Chinese character. English words, numbers, and certain punctuations were preserved."
   ]
  },
  {
   "cell_type": "code",
   "execution_count": 21,
   "metadata": {
    "collapsed": true
   },
   "outputs": [],
   "source": [
    "def get_chinese_regex():\n",
    "    '''\n",
    "    Returns a regex of various punctuations that matches 2+ occurences of said punctuation. The purpose is to take multiple\n",
    "    occurences of the punctuation and change it to one occurence e.g. ！！！ -> ！\n",
    "    Note that periods are not included (ellipses are 3 periods)\n",
    "    '''\n",
    "    sub = {\"!\":\"\\!\", \"?\":\"\\?\", \"(\":\"\\(\", \")\":\"\\)\", \"[\":\"\\[\", \"]\":\"\\]\", \n",
    "       \"*\":\"\\*\", \"$\":\"\\$\", \"^\":\"\\^\", \"{\":\"\\{\", \"}\":\"\\}\", \"+\":\"\\+\"}\n",
    "    rep = dict((re.escape(k), v) for k, v in sub.items())\n",
    "    pattern = re.compile(\"|\".join(rep.keys()))\n",
    "    PUNCT = \"|\".join(\"，！？；：（）［］【】。「」﹁﹂『』、‧《》〈〉﹏…—～“”\" + string.punctuation\n",
    "                     .replace(\".\", \"\").replace(\"\\\\\", \"\").replace(\"|\", \"\\|\")).replace(\"||\", \"|\") + \"|’|\\\\\\\\\"\n",
    "    return (\"\".join([x + \"{2,}\" if (x != \"|\" and x != \"\\\\\") else x for x in \n",
    "                    pattern.sub(lambda m: rep[re.escape(m.group())], PUNCT)]) + \"{2,}\").replace(\"\\\\|\", \"\\\\|{2,}\")\n",
    "\n",
    "for i in \"！@#%…&*（）—+|}{“：？》《。，/；’【】、\":\n",
    "    assert len(list(re.finditer(get_chinese_regex(), i * 3))) == 1"
   ]
  },
  {
   "cell_type": "code",
   "execution_count": 22,
   "metadata": {
    "collapsed": true
   },
   "outputs": [],
   "source": [
    "def tokenize_chinese(l, c, PUNCT):\n",
    "    \n",
    "    ireplace = {\"\\u2028\": \" \", \"\\u2029\": \" \", \"\\u200e\": \" \", \"\\xa0\": \" \"}\n",
    "    \n",
    "    c = html.unescape(c.replace(\"；\", \";\")) #unescape does not recognize ； as ; and will fail to unescape\n",
    "\n",
    "    for i in ireplace:\n",
    "        if i in c: c.replace(i, ireplace[i])\n",
    "    \n",
    "    if \"...\" in c:\n",
    "        a = list(re.finditer(\"\\.{3,}\", c))\n",
    "        if a != []: \n",
    "            for x in a: c = c.replace(x.group(0), \"…\")\n",
    "    \n",
    "    if \" . . .\" in c:\n",
    "        a = list(re.finditer(\"(\\s\\.){3,}\", c))\n",
    "        if a != []: \n",
    "            for x in a: c = c.replace(x.group(0), \"…\")\n",
    "    \n",
    "    m = list(re.finditer(PUNCT, c))\n",
    "    if m != []:\n",
    "        for i in m: c = c.replace(i.group(), i.group()[0])\n",
    "    \n",
    "    final, temp, a = [], \"\", False\n",
    "    \n",
    "    for i in c:\n",
    "        x = ord(i)\n",
    "        if (91 <= x <= 126) or (65 <= x <= 90) or (33 <= x <= 64):\n",
    "            temp += i\n",
    "            a = True\n",
    "        elif not ((91 <= x <= 126) or (65 <= x <= 90) or (33 <= x <= 64)) and (a):\n",
    "            print(final, temp)\n",
    "            #end of # or [A-z], we now check if the token lacks whitespace\n",
    "            #ex. Abacus2007-AC1 -> Abacus 2007-AC1, BankofAmerica -> Bank of America\n",
    "            token, t, n = temp[:], word_tokenize(l), 0\n",
    "            for j in range(len(temp)):\n",
    "                print(t, temp[n:j], token)\n",
    "                if temp[n:j] in t:\n",
    "                    token = token.replace(temp[n:j], \" \" + temp[n:j] + \" \")\n",
    "                    n = j\n",
    "            final.append(token.strip())\n",
    "            final.append(i)\n",
    "            temp, a = \"\", False\n",
    "        else: final.append(i)\n",
    "\n",
    "        if a and (c[len(c) - 1] == i): final.append(temp)\n",
    "    \n",
    "    return re.sub(\"\\s+\", \" \", \" \".join(final))"
   ]
  },
  {
   "cell_type": "markdown",
   "metadata": {},
   "source": [
    "Let's now tokenize the same sentence:"
   ]
  },
  {
   "cell_type": "code",
   "execution_count": 21,
   "metadata": {},
   "outputs": [
    {
     "name": "stdout",
     "output_type": "stream",
     "text": [
      "['表', '演', '者', '没', '有', '大', '炮', '火', '药', '了', '，', '于', '是', 'Clifford', '吹', '气', '把', '她', '发', '射', '出', '去', '了', '。']\n"
     ]
    }
   ],
   "source": [
    "print(word_tokenize(tokenize_chinese(engtemp[30], chtemp[30], get_chinese_regex())))"
   ]
  },
  {
   "cell_type": "markdown",
   "metadata": {},
   "source": [
    "At this point, you may notice if these sentences were used for word alignment, a strong and possibly unjustified assumption has been made: each character is a word. This is not necessarily true; for example, \"world\" translates to \"世界\" in Chinese. This implies Chinese sentences should probably be word segmented for highest accuracy during translation. [Chang et. al.](https://nlp.stanford.edu/pubs/acl-wmt08-cws.pdf)'s first hypothesis agrees with this. The Chinese sentences will be word segmented if there is time remaining after implementing the phrase-based model."
   ]
  },
  {
   "cell_type": "code",
   "execution_count": 23,
   "metadata": {
    "collapsed": true
   },
   "outputs": [],
   "source": [
    "def process_ch_parallel(l, c):\n",
    "    \n",
    "    a = []\n",
    "    PUNCT = get_chinese_regex()\n",
    "    \n",
    "    for i in range(len(c)): a.append(tokenize_chinese(l[i], c[i], PUNCT))\n",
    "    \n",
    "    return a"
   ]
  },
  {
   "cell_type": "code",
   "execution_count": 23,
   "metadata": {
    "collapsed": true
   },
   "outputs": [],
   "source": [
    "file = open(\"casia2015_ch_pclean.txt\", \"w\", encoding = \"utf-8\")\n",
    "file.write(\"\\n\".join(process_ch_parallel(engtemp, ch)))\n",
    "file.close()"
   ]
  },
  {
   "cell_type": "markdown",
   "metadata": {},
   "source": [
    "def process_eng_parallel(l, c, conts, nopunct):\n",
    "    \n",
    "    '''\n",
    "    Takes the casia2015_en.txt file and prepares it for word alignment.\n",
    "    english: list of english sentences\n",
    "    conts: well-formed contractions\n",
    "    nopunct: malformed contractions (dont, don\"t, don ' t, etc)\n",
    "    '''\n",
    "\n",
    "    lengths = []\n",
    "    #one =   \"(([A-z])+((\\s-)|(-\\s)|(\\s-\\s))[A-z]+)|([0-9]+(\\s-|-\\s)year-old)\"\n",
    "    one =   \"(([A-z]|[0-9]|,)+(\\s-|-\\s|\\s-\\s)[A-z]+)|([0-9]+(\\s-|-\\s)year\\s?-\\s?old)\"\n",
    "    two =   \"((([A-z]|[0-9]|,)+(\\s-|-\\s|\\s-\\s))){1,2}[A-z]+|([0-9]+(\\s-|-\\s)year\\s?-\\s?old)\"\n",
    "    three = \"((([A-z]|[0-9]|,)+(\\s-|-\\s|\\s-\\s))){1,3}[A-z]+|([0-9]+(\\s-|-\\s)year\\s?-\\s?old)\"\n",
    "\n",
    "    #d1 = enchant.Dict(\"en_US\")\n",
    "    #d1.add_to_pwl(\"email\")\n",
    "    #d2 = enchant.Dict(\"en_GB\")\n",
    "    #d3 = enchant.Dict(\"de_DE\")\n",
    "    #d4 = enchant.Dict(\"fr_FR\")\n",
    "    t = requests.get(\"https://raw.githubusercontent.com/dwyl/english-words/master/words.txt\").content\\\n",
    "        .decode(\"utf-8\").split(\"\\n\")\n",
    "    \n",
    "    for i in range(len(l)):\n",
    "        \n",
    "        l[i] = l[i].strip().replace(\"&amp;\", \"&\")\n",
    "        \n",
    "        #### replace malformed contractions with correct form:\n",
    "\n",
    "        for j in nopunct:\n",
    "            if j in l[i]:\n",
    "                l[i] = l[i].replace(j.strip(), conts[nopunct[j]])\n",
    "        \n",
    "        #### fix --, replace any combination of -'s and whitespace with --\n",
    "        \n",
    "        if \"-\" in l[i]:\n",
    "            \n",
    "            b = list(re.finditer(\"\\w\\s-\\w|\\w-\\s\\w\", l[i]))\n",
    "            if b != []:\n",
    "                if len(b) == 1:\n",
    "                    d = list(re.finditer(three, l[i]))\n",
    "                    for x in d:\n",
    "                        e, g = x.group(0).replace(\" - \", \" -\"), False\n",
    "                        f = nltk.pos_tag(nltk.word_tokenize(e))\n",
    "                        j = nltk.pos_tag([x for x in nltk.word_tokenize(e.replace(\"-\", \" \")) if x != \"\"]) \n",
    "                        if \" - \" in x.group(0): g = True \n",
    "                        no, yes = (f[0][0] + f[1][0]).replace(\"-\", \"\"), (f[0][0] + f[1][0]).replace(\" \", \"\")\n",
    "                        \n",
    "                        if ((check_spelling(no)) or (no in t)) or \\\n",
    "                            ((check_spelling(no[0].upper() + no[1:])) or (no[0].upper() + no[1:] in t)):\n",
    "                            if g: l[i] = l[i].replace(x.group(0), no)\n",
    "                            else: l[i] = l[i].replace(e, no)\n",
    "                                \n",
    "                        elif (check_spelling(yes)) or (yes in t) or \\\n",
    "                                ((check_spelling(yes[0].upper() + yes[1:])) or (yes[0].upper() + yes[1:] in t)):\n",
    "                            if g: l[i] = l[i].replace(x.group(0), yes)\n",
    "                            else: l[i] = l[i].replace(e, yes)\n",
    "                                \n",
    "                        elif (\"and\" not in e.split(\" \")) and (\"or\" not in e.split(\" \")) \\\n",
    "                                and ((f[len(f) - 1][0].endswith(\"ed\")) or (f[len(f) - 1][0].endswith(\"ing\"))\n",
    "                                and (\"VB\" not in f[0][1])):\n",
    "                            l[i] = l[i].replace(x.group(0), e.replace(\" \", \"\")) #changes tear- filled to tear-filled\n",
    "                            \n",
    "                        elif (\"and\" in e.split(\" \")) or (\"or\" in e.split(\" \")) or (\"to\" in e.split(\" \")):\n",
    "                            l[i] = l[i].replace(x.group(0), e.replace(\"-\", \"\"))\n",
    "                            \n",
    "                        elif \"—\" in c[i]:\n",
    "                            h = math.ceil(len(c[i]) * (l[i].index(x.group(0)) / len(l[i])))\n",
    "                            left, right = h - 5, max(h + 5, len(c[i])) #small window to check for chinese dash\n",
    "                            if \"—\" in c[i][left:right]:\n",
    "                                l[i] = l[i].replace(x.group(0), x.group(0).replace(\"-\", \" - \"))\n",
    "\n",
    "                        else:\n",
    "                            l[i] = l[i].replace(x.group(0), x.group(0).replace(\"-\", \" - \"))\n",
    "\n",
    "                elif len(b) == 2:\n",
    "                    d = list(re.finditer(two, l[i]))\n",
    "                    for x in d:\n",
    "                        e = x.group(0)\n",
    "                        f = nltk.pos_tag([x for x in nltk.word_tokenize(e.replace(\"-\", \" \")) if x != \"\"]) \n",
    "                        if (\"and\" not in e.split(\" \")) and (\"or\" not in e.split(\" \")) \\\n",
    "                            and (f[len(f) - 1][1].startswith(\"N\")):\n",
    "                            l[i] = l[i].replace(e, e.replace(\" \", \"\")) \n",
    "                        elif not f[len(f) - 1][1].startswith(\"N\"):\n",
    "                            l[i] = l[i].replace(e, e.replace(\"-\", \"\"))         \n",
    "                if len(b) >= 3: \n",
    "                    print(l[i])\n",
    "                    print()\n",
    "                lengths.append(len(b))\n",
    "        \n",
    "            if \"- -\" in l[i]: \n",
    "                a = list(re.finditer(\"(-{1,}\\s?){2,}|(-\\s?){2,}\", l[i]))\n",
    "                if a != []:\n",
    "                    for x in a: l[i] = l[i].replace(x.group(0), \"--\")\n",
    "            \n",
    "            if \"--\" in l[i]:\n",
    "                a = list(re.finditer(\"-{3,}\", l[i]))\n",
    "                if a != []: \n",
    "                    for x in a: l[i] = l[i].replace(x.group(0), \"--\")\n",
    "                    \n",
    "        #### fix long ellipses ....... and . . . . . .\n",
    "        \n",
    "        if \"...\" in l[i]:\n",
    "            a = list(re.finditer(\"(\\.){3,}\", l[i]))\n",
    "            if a != []: \n",
    "                for x in a: l[i] = l[i].replace(x.group(0), \"...\")\n",
    "                    \n",
    "        if \". . .\" in l[i]:\n",
    "            a = list(re.finditer(\"(\\. ){3,}\", l[i]))\n",
    "            if a != []: \n",
    "                for x in a: l[i] = l[i].replace(x.group(0), \"...\")\n",
    "                    \n",
    "        #### fix appearances of : in English when doesn't appear in Chinese (beginning of sentence)\n",
    "        #### Below is one such example\n",
    "        #### Yuna: Dont's worry.Being called Koala doesn't make him any less of a computer expert.\n",
    "        #### 别担心，叫做无尾熊完全无损于他是一位电脑专家啦!\n",
    "        #### Edge cases: \n",
    "        #### Not again: Lightning appears to strike the spire of Trump Tower a second time ....\n",
    "        #### 不是吧，又来！昨晚暴雨侵袭的时候，划过天际的闪电第二次击中了川普大厦的塔尖。\n",
    "        #### Solution: only remove things before : with no space\n",
    "        #### Problem: will miss some things like \"ROGER FEDERER:\", it's not perfect\n",
    "\n",
    "        if (\":\" in l[i][:20]) and (list(re.finditer(\"：|:\", c[i][:8])) == []):\n",
    "            a = l[i].index(\":\")\n",
    "            b = l[i][:a].strip()\n",
    "            if \" \" not in b: l[i] = l[i][a + 1:] #you do not have a phrase / edge case name do not remove\n",
    "        \n",
    "    #return l\n",
    "    return lengths"
   ]
  },
  {
   "cell_type": "code",
   "execution_count": 39,
   "metadata": {
    "collapsed": true
   },
   "outputs": [],
   "source": [
    "'''\n",
    "def check_spelling(word, *d):\n",
    "    x = False\n",
    "    for e in d:\n",
    "        if e.check(word) == True: x = True\n",
    "    return x\n",
    "'''"
   ]
  }
 ],
 "metadata": {
  "kernelspec": {
   "display_name": "Python 3",
   "language": "python",
   "name": "python3"
  },
  "language_info": {
   "codemirror_mode": {
    "name": "ipython",
    "version": 3
   },
   "file_extension": ".py",
   "mimetype": "text/x-python",
   "name": "python",
   "nbconvert_exporter": "python",
   "pygments_lexer": "ipython3",
   "version": "3.6.2"
  }
 },
 "nbformat": 4,
 "nbformat_minor": 2
}
